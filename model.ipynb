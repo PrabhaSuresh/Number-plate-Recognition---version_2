{
 "cells": [
  {
   "cell_type": "code",
   "execution_count": 2,
   "metadata": {},
   "outputs": [
    {
     "name": "stdout",
     "output_type": "stream",
     "text": [
      "WARNING  Python>=3.10 is required, but Python==3.9.20 is currently installed \n"
     ]
    }
   ],
   "source": [
    "from ultralytics import YOLO"
   ]
  },
  {
   "cell_type": "code",
   "execution_count": 5,
   "metadata": {},
   "outputs": [],
   "source": [
    "model = YOLO(\"yolo11n.pt\")"
   ]
  },
  {
   "cell_type": "code",
   "execution_count": 6,
   "metadata": {},
   "outputs": [],
   "source": [
    "dataset = r\"D:\\Prabha\\Cubeai_intern\\Construction\\Source_codes\\Number Plate Recognition (NPR)\\Dataset\\data.yaml\""
   ]
  },
  {
   "cell_type": "code",
   "execution_count": 8,
   "metadata": {},
   "outputs": [
    {
     "name": "stdout",
     "output_type": "stream",
     "text": [
      "New https://pypi.org/project/ultralytics/8.3.87 available  Update with 'pip install -U ultralytics'\n",
      "Ultralytics 8.3.11  Python-3.9.20 torch-2.4.1 CUDA:0 (NVIDIA GeForce RTX 4060 Laptop GPU, 8188MiB)\n",
      "\u001b[34m\u001b[1mengine\\trainer: \u001b[0mtask=detect, mode=train, model=yolo11n.pt, data=D:\\Prabha\\Cubeai_intern\\Construction\\Source_codes\\Number Plate Recognition (NPR)\\Dataset\\data.yaml, epochs=60, time=None, patience=100, batch=16, imgsz=640, save=True, save_period=-1, cache=False, device=cuda, workers=8, project=None, name=train, exist_ok=False, pretrained=True, optimizer=auto, verbose=True, seed=0, deterministic=True, single_cls=False, rect=False, cos_lr=False, close_mosaic=10, resume=False, amp=True, fraction=1.0, profile=False, freeze=None, multi_scale=False, overlap_mask=True, mask_ratio=4, dropout=0.0, val=True, split=val, save_json=False, save_hybrid=False, conf=None, iou=0.7, max_det=300, half=False, dnn=False, plots=True, source=None, vid_stride=1, stream_buffer=False, visualize=False, augment=False, agnostic_nms=False, classes=None, retina_masks=False, embed=None, show=False, save_frames=False, save_txt=False, save_conf=False, save_crop=False, show_labels=True, show_conf=True, show_boxes=True, line_width=None, format=torchscript, keras=False, optimize=False, int8=False, dynamic=False, simplify=True, opset=None, workspace=4, nms=False, lr0=0.01, lrf=0.01, momentum=0.937, weight_decay=0.0005, warmup_epochs=3.0, warmup_momentum=0.8, warmup_bias_lr=0.1, box=7.5, cls=0.5, dfl=1.5, pose=12.0, kobj=1.0, label_smoothing=0.0, nbs=64, hsv_h=0.015, hsv_s=0.7, hsv_v=0.4, degrees=0.0, translate=0.1, scale=0.5, shear=0.0, perspective=0.0, flipud=0.0, fliplr=0.5, bgr=0.0, mosaic=1.0, mixup=0.0, copy_paste=0.0, copy_paste_mode=flip, auto_augment=randaugment, erasing=0.4, crop_fraction=1.0, cfg=None, tracker=botsort.yaml, save_dir=runs\\detect\\train\n",
      "Overriding model.yaml nc=80 with nc=1\n",
      "\n",
      "                   from  n    params  module                                       arguments                     \n",
      "  0                  -1  1       464  ultralytics.nn.modules.conv.Conv             [3, 16, 3, 2]                 \n",
      "  1                  -1  1      4672  ultralytics.nn.modules.conv.Conv             [16, 32, 3, 2]                \n",
      "  2                  -1  1      6640  ultralytics.nn.modules.block.C3k2            [32, 64, 1, False, 0.25]      \n",
      "  3                  -1  1     36992  ultralytics.nn.modules.conv.Conv             [64, 64, 3, 2]                \n",
      "  4                  -1  1     26080  ultralytics.nn.modules.block.C3k2            [64, 128, 1, False, 0.25]     \n",
      "  5                  -1  1    147712  ultralytics.nn.modules.conv.Conv             [128, 128, 3, 2]              \n",
      "  6                  -1  1     87040  ultralytics.nn.modules.block.C3k2            [128, 128, 1, True]           \n",
      "  7                  -1  1    295424  ultralytics.nn.modules.conv.Conv             [128, 256, 3, 2]              \n",
      "  8                  -1  1    346112  ultralytics.nn.modules.block.C3k2            [256, 256, 1, True]           \n",
      "  9                  -1  1    164608  ultralytics.nn.modules.block.SPPF            [256, 256, 5]                 \n",
      " 10                  -1  1    249728  ultralytics.nn.modules.block.C2PSA           [256, 256, 1]                 \n",
      " 11                  -1  1         0  torch.nn.modules.upsampling.Upsample         [None, 2, 'nearest']          \n",
      " 12             [-1, 6]  1         0  ultralytics.nn.modules.conv.Concat           [1]                           \n",
      " 13                  -1  1    111296  ultralytics.nn.modules.block.C3k2            [384, 128, 1, False]          \n",
      " 14                  -1  1         0  torch.nn.modules.upsampling.Upsample         [None, 2, 'nearest']          \n",
      " 15             [-1, 4]  1         0  ultralytics.nn.modules.conv.Concat           [1]                           \n",
      " 16                  -1  1     32096  ultralytics.nn.modules.block.C3k2            [256, 64, 1, False]           \n",
      " 17                  -1  1     36992  ultralytics.nn.modules.conv.Conv             [64, 64, 3, 2]                \n",
      " 18            [-1, 13]  1         0  ultralytics.nn.modules.conv.Concat           [1]                           \n",
      " 19                  -1  1     86720  ultralytics.nn.modules.block.C3k2            [192, 128, 1, False]          \n",
      " 20                  -1  1    147712  ultralytics.nn.modules.conv.Conv             [128, 128, 3, 2]              \n",
      " 21            [-1, 10]  1         0  ultralytics.nn.modules.conv.Concat           [1]                           \n",
      " 22                  -1  1    378880  ultralytics.nn.modules.block.C3k2            [384, 256, 1, True]           \n",
      " 23        [16, 19, 22]  1    430867  ultralytics.nn.modules.head.Detect           [1, [64, 128, 256]]           \n",
      "YOLO11n summary: 319 layers, 2,590,035 parameters, 2,590,019 gradients, 6.4 GFLOPs\n",
      "\n",
      "Transferred 448/499 items from pretrained weights\n",
      "Freezing layer 'model.23.dfl.conv.weight'\n",
      "\u001b[34m\u001b[1mAMP: \u001b[0mrunning Automatic Mixed Precision (AMP) checks with YOLO11n...\n",
      "\u001b[34m\u001b[1mAMP: \u001b[0mchecks passed \n"
     ]
    },
    {
     "name": "stderr",
     "output_type": "stream",
     "text": [
      "\u001b[34m\u001b[1mtrain: \u001b[0mScanning D:\\Prabha\\Cubeai_intern\\Construction\\Source_codes\\Number Plate Recognition (NPR)\\Dataset\\train\\labels... 21173 images, 28 backgrounds, 0 corrupt: 100%|██████████| 21173/21173 [00:06<00:00, 3274.11it/s]\n"
     ]
    },
    {
     "name": "stdout",
     "output_type": "stream",
     "text": [
      "\u001b[34m\u001b[1mtrain: \u001b[0mNew cache created: D:\\Prabha\\Cubeai_intern\\Construction\\Source_codes\\Number Plate Recognition (NPR)\\Dataset\\train\\labels.cache\n"
     ]
    },
    {
     "name": "stderr",
     "output_type": "stream",
     "text": [
      "\u001b[34m\u001b[1mval: \u001b[0mScanning D:\\Prabha\\Cubeai_intern\\Construction\\Source_codes\\Number Plate Recognition (NPR)\\Dataset\\valid\\labels... 2046 images, 3 backgrounds, 0 corrupt: 100%|██████████| 2046/2046 [00:00<00:00, 2054.04it/s]\n"
     ]
    },
    {
     "name": "stdout",
     "output_type": "stream",
     "text": [
      "\u001b[34m\u001b[1mval: \u001b[0mNew cache created: D:\\Prabha\\Cubeai_intern\\Construction\\Source_codes\\Number Plate Recognition (NPR)\\Dataset\\valid\\labels.cache\n",
      "Plotting labels to runs\\detect\\train\\labels.jpg... \n",
      "\u001b[34m\u001b[1moptimizer:\u001b[0m 'optimizer=auto' found, ignoring 'lr0=0.01' and 'momentum=0.937' and determining best 'optimizer', 'lr0' and 'momentum' automatically... \n",
      "\u001b[34m\u001b[1moptimizer:\u001b[0m SGD(lr=0.01, momentum=0.9) with parameter groups 81 weight(decay=0.0), 88 weight(decay=0.0005), 87 bias(decay=0.0)\n",
      "Image sizes 640 train, 640 val\n",
      "Using 8 dataloader workers\n",
      "Logging results to \u001b[1mruns\\detect\\train\u001b[0m\n",
      "Starting training for 60 epochs...\n",
      "\n",
      "      Epoch    GPU_mem   box_loss   cls_loss   dfl_loss  Instances       Size\n"
     ]
    },
    {
     "name": "stderr",
     "output_type": "stream",
     "text": [
      "       1/60      2.53G      1.222      1.631      1.242         11        640: 100%|██████████| 1324/1324 [02:48<00:00,  7.85it/s]\n",
      "                 Class     Images  Instances      Box(P          R      mAP50  mAP50-95): 100%|██████████| 64/64 [00:08<00:00,  7.71it/s]\n"
     ]
    },
    {
     "name": "stdout",
     "output_type": "stream",
     "text": [
      "                   all       2046       2132      0.953      0.923      0.958      0.597\n",
      "\n",
      "      Epoch    GPU_mem   box_loss   cls_loss   dfl_loss  Instances       Size\n"
     ]
    },
    {
     "name": "stderr",
     "output_type": "stream",
     "text": [
      "       2/60      2.54G       1.22     0.8651      1.206         11        640: 100%|██████████| 1324/1324 [02:41<00:00,  8.18it/s]\n",
      "                 Class     Images  Instances      Box(P          R      mAP50  mAP50-95): 100%|██████████| 64/64 [00:08<00:00,  7.78it/s]"
     ]
    },
    {
     "name": "stdout",
     "output_type": "stream",
     "text": [
      "                   all       2046       2132      0.959      0.906      0.947      0.553\n"
     ]
    },
    {
     "name": "stderr",
     "output_type": "stream",
     "text": [
      "\n"
     ]
    },
    {
     "name": "stdout",
     "output_type": "stream",
     "text": [
      "\n",
      "      Epoch    GPU_mem   box_loss   cls_loss   dfl_loss  Instances       Size\n"
     ]
    },
    {
     "name": "stderr",
     "output_type": "stream",
     "text": [
      "       3/60      2.53G      1.273     0.8296      1.264          9        640: 100%|██████████| 1324/1324 [02:39<00:00,  8.30it/s]\n",
      "                 Class     Images  Instances      Box(P          R      mAP50  mAP50-95): 100%|██████████| 64/64 [00:08<00:00,  7.79it/s]"
     ]
    },
    {
     "name": "stdout",
     "output_type": "stream",
     "text": [
      "                   all       2046       2132      0.949      0.873      0.933      0.556\n"
     ]
    },
    {
     "name": "stderr",
     "output_type": "stream",
     "text": [
      "\n"
     ]
    },
    {
     "name": "stdout",
     "output_type": "stream",
     "text": [
      "\n",
      "      Epoch    GPU_mem   box_loss   cls_loss   dfl_loss  Instances       Size\n"
     ]
    },
    {
     "name": "stderr",
     "output_type": "stream",
     "text": [
      "       4/60      2.52G      1.277     0.8094      1.283          5        640: 100%|██████████| 1324/1324 [02:36<00:00,  8.43it/s]\n",
      "                 Class     Images  Instances      Box(P          R      mAP50  mAP50-95): 100%|██████████| 64/64 [00:08<00:00,  7.86it/s]"
     ]
    },
    {
     "name": "stdout",
     "output_type": "stream",
     "text": [
      "                   all       2046       2132      0.949      0.906       0.95       0.59\n"
     ]
    },
    {
     "name": "stderr",
     "output_type": "stream",
     "text": [
      "\n"
     ]
    },
    {
     "name": "stdout",
     "output_type": "stream",
     "text": [
      "\n",
      "      Epoch    GPU_mem   box_loss   cls_loss   dfl_loss  Instances       Size\n"
     ]
    },
    {
     "name": "stderr",
     "output_type": "stream",
     "text": [
      "       5/60      2.53G      1.244     0.7478      1.267          8        640: 100%|██████████| 1324/1324 [02:36<00:00,  8.44it/s]\n",
      "                 Class     Images  Instances      Box(P          R      mAP50  mAP50-95): 100%|██████████| 64/64 [00:08<00:00,  7.86it/s]"
     ]
    },
    {
     "name": "stdout",
     "output_type": "stream",
     "text": [
      "                   all       2046       2132      0.973      0.926      0.963      0.624\n"
     ]
    },
    {
     "name": "stderr",
     "output_type": "stream",
     "text": [
      "\n"
     ]
    },
    {
     "name": "stdout",
     "output_type": "stream",
     "text": [
      "\n",
      "      Epoch    GPU_mem   box_loss   cls_loss   dfl_loss  Instances       Size\n"
     ]
    },
    {
     "name": "stderr",
     "output_type": "stream",
     "text": [
      "       6/60      2.53G      1.217     0.7061      1.248         11        640: 100%|██████████| 1324/1324 [02:37<00:00,  8.41it/s]\n",
      "                 Class     Images  Instances      Box(P          R      mAP50  mAP50-95): 100%|██████████| 64/64 [00:08<00:00,  7.95it/s]"
     ]
    },
    {
     "name": "stdout",
     "output_type": "stream",
     "text": [
      "                   all       2046       2132      0.963      0.917      0.962      0.609\n"
     ]
    },
    {
     "name": "stderr",
     "output_type": "stream",
     "text": [
      "\n"
     ]
    },
    {
     "name": "stdout",
     "output_type": "stream",
     "text": [
      "\n",
      "      Epoch    GPU_mem   box_loss   cls_loss   dfl_loss  Instances       Size\n"
     ]
    },
    {
     "name": "stderr",
     "output_type": "stream",
     "text": [
      "       7/60      2.53G      1.191     0.6774      1.236         14        640: 100%|██████████| 1324/1324 [02:36<00:00,  8.44it/s]\n",
      "                 Class     Images  Instances      Box(P          R      mAP50  mAP50-95): 100%|██████████| 64/64 [00:08<00:00,  7.83it/s]"
     ]
    },
    {
     "name": "stdout",
     "output_type": "stream",
     "text": [
      "                   all       2046       2132      0.964       0.93      0.965      0.628\n"
     ]
    },
    {
     "name": "stderr",
     "output_type": "stream",
     "text": [
      "\n"
     ]
    },
    {
     "name": "stdout",
     "output_type": "stream",
     "text": [
      "\n",
      "      Epoch    GPU_mem   box_loss   cls_loss   dfl_loss  Instances       Size\n"
     ]
    },
    {
     "name": "stderr",
     "output_type": "stream",
     "text": [
      "       8/60      2.53G      1.183     0.6592      1.225          9        640: 100%|██████████| 1324/1324 [02:36<00:00,  8.44it/s]\n",
      "                 Class     Images  Instances      Box(P          R      mAP50  mAP50-95): 100%|██████████| 64/64 [00:08<00:00,  7.88it/s]"
     ]
    },
    {
     "name": "stdout",
     "output_type": "stream",
     "text": [
      "                   all       2046       2132      0.953      0.939      0.967      0.614\n"
     ]
    },
    {
     "name": "stderr",
     "output_type": "stream",
     "text": [
      "\n"
     ]
    },
    {
     "name": "stdout",
     "output_type": "stream",
     "text": [
      "\n",
      "      Epoch    GPU_mem   box_loss   cls_loss   dfl_loss  Instances       Size\n"
     ]
    },
    {
     "name": "stderr",
     "output_type": "stream",
     "text": [
      "       9/60      2.52G      1.171      0.643      1.219          6        640: 100%|██████████| 1324/1324 [02:36<00:00,  8.46it/s]\n",
      "                 Class     Images  Instances      Box(P          R      mAP50  mAP50-95): 100%|██████████| 64/64 [00:08<00:00,  7.87it/s]"
     ]
    },
    {
     "name": "stdout",
     "output_type": "stream",
     "text": [
      "                   all       2046       2132       0.97      0.933       0.97      0.641\n"
     ]
    },
    {
     "name": "stderr",
     "output_type": "stream",
     "text": [
      "\n"
     ]
    },
    {
     "name": "stdout",
     "output_type": "stream",
     "text": [
      "\n",
      "      Epoch    GPU_mem   box_loss   cls_loss   dfl_loss  Instances       Size\n"
     ]
    },
    {
     "name": "stderr",
     "output_type": "stream",
     "text": [
      "      10/60      2.53G      1.152     0.6173      1.205          9        640: 100%|██████████| 1324/1324 [02:37<00:00,  8.41it/s]\n",
      "                 Class     Images  Instances      Box(P          R      mAP50  mAP50-95): 100%|██████████| 64/64 [00:08<00:00,  7.89it/s]"
     ]
    },
    {
     "name": "stdout",
     "output_type": "stream",
     "text": [
      "                   all       2046       2132      0.977      0.925      0.969      0.665\n"
     ]
    },
    {
     "name": "stderr",
     "output_type": "stream",
     "text": [
      "\n"
     ]
    },
    {
     "name": "stdout",
     "output_type": "stream",
     "text": [
      "\n",
      "      Epoch    GPU_mem   box_loss   cls_loss   dfl_loss  Instances       Size\n"
     ]
    },
    {
     "name": "stderr",
     "output_type": "stream",
     "text": [
      "      11/60      2.52G      1.145     0.6072      1.201          7        640: 100%|██████████| 1324/1324 [02:37<00:00,  8.41it/s]\n",
      "                 Class     Images  Instances      Box(P          R      mAP50  mAP50-95): 100%|██████████| 64/64 [00:08<00:00,  7.89it/s]"
     ]
    },
    {
     "name": "stdout",
     "output_type": "stream",
     "text": [
      "                   all       2046       2132      0.973      0.936      0.967      0.644\n"
     ]
    },
    {
     "name": "stderr",
     "output_type": "stream",
     "text": [
      "\n"
     ]
    },
    {
     "name": "stdout",
     "output_type": "stream",
     "text": [
      "\n",
      "      Epoch    GPU_mem   box_loss   cls_loss   dfl_loss  Instances       Size\n"
     ]
    },
    {
     "name": "stderr",
     "output_type": "stream",
     "text": [
      "      12/60      2.53G      1.138     0.6022      1.196          8        640: 100%|██████████| 1324/1324 [02:36<00:00,  8.44it/s]\n",
      "                 Class     Images  Instances      Box(P          R      mAP50  mAP50-95): 100%|██████████| 64/64 [00:08<00:00,  7.91it/s]"
     ]
    },
    {
     "name": "stdout",
     "output_type": "stream",
     "text": [
      "                   all       2046       2132      0.968      0.946       0.97      0.656\n"
     ]
    },
    {
     "name": "stderr",
     "output_type": "stream",
     "text": [
      "\n"
     ]
    },
    {
     "name": "stdout",
     "output_type": "stream",
     "text": [
      "\n",
      "      Epoch    GPU_mem   box_loss   cls_loss   dfl_loss  Instances       Size\n"
     ]
    },
    {
     "name": "stderr",
     "output_type": "stream",
     "text": [
      "      13/60      2.53G      1.124     0.5902      1.188         14        640: 100%|██████████| 1324/1324 [02:37<00:00,  8.42it/s]\n",
      "                 Class     Images  Instances      Box(P          R      mAP50  mAP50-95): 100%|██████████| 64/64 [00:08<00:00,  7.89it/s]"
     ]
    },
    {
     "name": "stdout",
     "output_type": "stream",
     "text": [
      "                   all       2046       2132      0.964      0.951      0.976      0.666\n"
     ]
    },
    {
     "name": "stderr",
     "output_type": "stream",
     "text": [
      "\n"
     ]
    },
    {
     "name": "stdout",
     "output_type": "stream",
     "text": [
      "\n",
      "      Epoch    GPU_mem   box_loss   cls_loss   dfl_loss  Instances       Size\n"
     ]
    },
    {
     "name": "stderr",
     "output_type": "stream",
     "text": [
      "      14/60      2.52G      1.118      0.582      1.177          4        640: 100%|██████████| 1324/1324 [02:37<00:00,  8.43it/s]\n",
      "                 Class     Images  Instances      Box(P          R      mAP50  mAP50-95): 100%|██████████| 64/64 [00:08<00:00,  7.87it/s]"
     ]
    },
    {
     "name": "stdout",
     "output_type": "stream",
     "text": [
      "                   all       2046       2132      0.976      0.946      0.972      0.675\n"
     ]
    },
    {
     "name": "stderr",
     "output_type": "stream",
     "text": [
      "\n"
     ]
    },
    {
     "name": "stdout",
     "output_type": "stream",
     "text": [
      "\n",
      "      Epoch    GPU_mem   box_loss   cls_loss   dfl_loss  Instances       Size\n"
     ]
    },
    {
     "name": "stderr",
     "output_type": "stream",
     "text": [
      "      15/60      2.52G      1.113     0.5774      1.173          6        640: 100%|██████████| 1324/1324 [02:36<00:00,  8.45it/s]\n",
      "                 Class     Images  Instances      Box(P          R      mAP50  mAP50-95): 100%|██████████| 64/64 [00:08<00:00,  7.86it/s]"
     ]
    },
    {
     "name": "stdout",
     "output_type": "stream",
     "text": [
      "                   all       2046       2132      0.968      0.948      0.975      0.677\n"
     ]
    },
    {
     "name": "stderr",
     "output_type": "stream",
     "text": [
      "\n"
     ]
    },
    {
     "name": "stdout",
     "output_type": "stream",
     "text": [
      "\n",
      "      Epoch    GPU_mem   box_loss   cls_loss   dfl_loss  Instances       Size\n"
     ]
    },
    {
     "name": "stderr",
     "output_type": "stream",
     "text": [
      "      16/60      2.52G      1.103     0.5675      1.167          6        640: 100%|██████████| 1324/1324 [02:36<00:00,  8.45it/s]\n",
      "                 Class     Images  Instances      Box(P          R      mAP50  mAP50-95): 100%|██████████| 64/64 [00:08<00:00,  7.85it/s]"
     ]
    },
    {
     "name": "stdout",
     "output_type": "stream",
     "text": [
      "                   all       2046       2132      0.971       0.95      0.976       0.68\n"
     ]
    },
    {
     "name": "stderr",
     "output_type": "stream",
     "text": [
      "\n"
     ]
    },
    {
     "name": "stdout",
     "output_type": "stream",
     "text": [
      "\n",
      "      Epoch    GPU_mem   box_loss   cls_loss   dfl_loss  Instances       Size\n"
     ]
    },
    {
     "name": "stderr",
     "output_type": "stream",
     "text": [
      "      17/60      2.52G      1.094      0.556      1.163          5        640: 100%|██████████| 1324/1324 [02:36<00:00,  8.46it/s]\n",
      "                 Class     Images  Instances      Box(P          R      mAP50  mAP50-95): 100%|██████████| 64/64 [00:08<00:00,  7.87it/s]"
     ]
    },
    {
     "name": "stdout",
     "output_type": "stream",
     "text": [
      "                   all       2046       2132      0.969      0.956      0.978      0.683\n"
     ]
    },
    {
     "name": "stderr",
     "output_type": "stream",
     "text": [
      "\n"
     ]
    },
    {
     "name": "stdout",
     "output_type": "stream",
     "text": [
      "\n",
      "      Epoch    GPU_mem   box_loss   cls_loss   dfl_loss  Instances       Size\n"
     ]
    },
    {
     "name": "stderr",
     "output_type": "stream",
     "text": [
      "      18/60      2.53G      1.087     0.5463      1.158          6        640: 100%|██████████| 1324/1324 [02:37<00:00,  8.43it/s]\n",
      "                 Class     Images  Instances      Box(P          R      mAP50  mAP50-95): 100%|██████████| 64/64 [00:08<00:00,  7.88it/s]"
     ]
    },
    {
     "name": "stdout",
     "output_type": "stream",
     "text": [
      "                   all       2046       2132      0.969      0.948      0.977       0.68\n"
     ]
    },
    {
     "name": "stderr",
     "output_type": "stream",
     "text": [
      "\n"
     ]
    },
    {
     "name": "stdout",
     "output_type": "stream",
     "text": [
      "\n",
      "      Epoch    GPU_mem   box_loss   cls_loss   dfl_loss  Instances       Size\n"
     ]
    },
    {
     "name": "stderr",
     "output_type": "stream",
     "text": [
      "      19/60      2.53G      1.092     0.5477      1.163         10        640: 100%|██████████| 1324/1324 [02:37<00:00,  8.42it/s]\n",
      "                 Class     Images  Instances      Box(P          R      mAP50  mAP50-95): 100%|██████████| 64/64 [00:08<00:00,  7.97it/s]"
     ]
    },
    {
     "name": "stdout",
     "output_type": "stream",
     "text": [
      "                   all       2046       2132      0.974      0.951       0.98       0.69\n"
     ]
    },
    {
     "name": "stderr",
     "output_type": "stream",
     "text": [
      "\n"
     ]
    },
    {
     "name": "stdout",
     "output_type": "stream",
     "text": [
      "\n",
      "      Epoch    GPU_mem   box_loss   cls_loss   dfl_loss  Instances       Size\n"
     ]
    },
    {
     "name": "stderr",
     "output_type": "stream",
     "text": [
      "      20/60      2.53G      1.077     0.5374      1.155          8        640: 100%|██████████| 1324/1324 [02:37<00:00,  8.41it/s]\n",
      "                 Class     Images  Instances      Box(P          R      mAP50  mAP50-95): 100%|██████████| 64/64 [00:08<00:00,  7.91it/s]"
     ]
    },
    {
     "name": "stdout",
     "output_type": "stream",
     "text": [
      "                   all       2046       2132      0.974      0.947      0.977       0.69\n"
     ]
    },
    {
     "name": "stderr",
     "output_type": "stream",
     "text": [
      "\n"
     ]
    },
    {
     "name": "stdout",
     "output_type": "stream",
     "text": [
      "\n",
      "      Epoch    GPU_mem   box_loss   cls_loss   dfl_loss  Instances       Size\n"
     ]
    },
    {
     "name": "stderr",
     "output_type": "stream",
     "text": [
      "      21/60      2.52G       1.07     0.5291       1.15          5        640: 100%|██████████| 1324/1324 [02:37<00:00,  8.42it/s]\n",
      "                 Class     Images  Instances      Box(P          R      mAP50  mAP50-95): 100%|██████████| 64/64 [00:08<00:00,  7.91it/s]"
     ]
    },
    {
     "name": "stdout",
     "output_type": "stream",
     "text": [
      "                   all       2046       2132      0.974      0.959      0.979      0.693\n"
     ]
    },
    {
     "name": "stderr",
     "output_type": "stream",
     "text": [
      "\n"
     ]
    },
    {
     "name": "stdout",
     "output_type": "stream",
     "text": [
      "\n",
      "      Epoch    GPU_mem   box_loss   cls_loss   dfl_loss  Instances       Size\n"
     ]
    },
    {
     "name": "stderr",
     "output_type": "stream",
     "text": [
      "      22/60      2.53G      1.074     0.5293      1.154          8        640: 100%|██████████| 1324/1324 [02:37<00:00,  8.42it/s]\n",
      "                 Class     Images  Instances      Box(P          R      mAP50  mAP50-95): 100%|██████████| 64/64 [00:08<00:00,  7.94it/s]"
     ]
    },
    {
     "name": "stdout",
     "output_type": "stream",
     "text": [
      "                   all       2046       2132      0.974      0.958      0.978      0.688\n"
     ]
    },
    {
     "name": "stderr",
     "output_type": "stream",
     "text": [
      "\n"
     ]
    },
    {
     "name": "stdout",
     "output_type": "stream",
     "text": [
      "\n",
      "      Epoch    GPU_mem   box_loss   cls_loss   dfl_loss  Instances       Size\n"
     ]
    },
    {
     "name": "stderr",
     "output_type": "stream",
     "text": [
      "      23/60      2.53G       1.07      0.526      1.153         13        640: 100%|██████████| 1324/1324 [02:37<00:00,  8.41it/s]\n",
      "                 Class     Images  Instances      Box(P          R      mAP50  mAP50-95): 100%|██████████| 64/64 [00:08<00:00,  7.87it/s]"
     ]
    },
    {
     "name": "stdout",
     "output_type": "stream",
     "text": [
      "                   all       2046       2132      0.978      0.949      0.981      0.691\n"
     ]
    },
    {
     "name": "stderr",
     "output_type": "stream",
     "text": [
      "\n"
     ]
    },
    {
     "name": "stdout",
     "output_type": "stream",
     "text": [
      "\n",
      "      Epoch    GPU_mem   box_loss   cls_loss   dfl_loss  Instances       Size\n"
     ]
    },
    {
     "name": "stderr",
     "output_type": "stream",
     "text": [
      "      24/60      2.52G       1.06     0.5194      1.139          3        640: 100%|██████████| 1324/1324 [02:37<00:00,  8.40it/s]\n",
      "                 Class     Images  Instances      Box(P          R      mAP50  mAP50-95): 100%|██████████| 64/64 [00:07<00:00,  8.06it/s]"
     ]
    },
    {
     "name": "stdout",
     "output_type": "stream",
     "text": [
      "                   all       2046       2132      0.977      0.953      0.981      0.697\n"
     ]
    },
    {
     "name": "stderr",
     "output_type": "stream",
     "text": [
      "\n"
     ]
    },
    {
     "name": "stdout",
     "output_type": "stream",
     "text": [
      "\n",
      "      Epoch    GPU_mem   box_loss   cls_loss   dfl_loss  Instances       Size\n"
     ]
    },
    {
     "name": "stderr",
     "output_type": "stream",
     "text": [
      "      25/60      2.53G      1.055     0.5162       1.14         12        640: 100%|██████████| 1324/1324 [02:37<00:00,  8.40it/s]\n",
      "                 Class     Images  Instances      Box(P          R      mAP50  mAP50-95): 100%|██████████| 64/64 [00:08<00:00,  7.98it/s]"
     ]
    },
    {
     "name": "stdout",
     "output_type": "stream",
     "text": [
      "                   all       2046       2132      0.976       0.95       0.98      0.696\n"
     ]
    },
    {
     "name": "stderr",
     "output_type": "stream",
     "text": [
      "\n"
     ]
    },
    {
     "name": "stdout",
     "output_type": "stream",
     "text": [
      "\n",
      "      Epoch    GPU_mem   box_loss   cls_loss   dfl_loss  Instances       Size\n"
     ]
    },
    {
     "name": "stderr",
     "output_type": "stream",
     "text": [
      "      26/60      2.53G      1.046     0.5045      1.131         10        640: 100%|██████████| 1324/1324 [02:38<00:00,  8.36it/s]\n",
      "                 Class     Images  Instances      Box(P          R      mAP50  mAP50-95): 100%|██████████| 64/64 [00:08<00:00,  7.87it/s]"
     ]
    },
    {
     "name": "stdout",
     "output_type": "stream",
     "text": [
      "                   all       2046       2132      0.977      0.958      0.982      0.702\n"
     ]
    },
    {
     "name": "stderr",
     "output_type": "stream",
     "text": [
      "\n"
     ]
    },
    {
     "name": "stdout",
     "output_type": "stream",
     "text": [
      "\n",
      "      Epoch    GPU_mem   box_loss   cls_loss   dfl_loss  Instances       Size\n"
     ]
    },
    {
     "name": "stderr",
     "output_type": "stream",
     "text": [
      "      27/60      2.52G       1.05     0.5053       1.14          8        640: 100%|██████████| 1324/1324 [02:37<00:00,  8.42it/s]\n",
      "                 Class     Images  Instances      Box(P          R      mAP50  mAP50-95): 100%|██████████| 64/64 [00:08<00:00,  7.56it/s]"
     ]
    },
    {
     "name": "stdout",
     "output_type": "stream",
     "text": [
      "                   all       2046       2132      0.971      0.956       0.98      0.697\n"
     ]
    },
    {
     "name": "stderr",
     "output_type": "stream",
     "text": [
      "\n"
     ]
    },
    {
     "name": "stdout",
     "output_type": "stream",
     "text": [
      "\n",
      "      Epoch    GPU_mem   box_loss   cls_loss   dfl_loss  Instances       Size\n"
     ]
    },
    {
     "name": "stderr",
     "output_type": "stream",
     "text": [
      "      28/60      2.53G      1.036     0.4967      1.131          9        640: 100%|██████████| 1324/1324 [02:52<00:00,  7.66it/s]\n",
      "                 Class     Images  Instances      Box(P          R      mAP50  mAP50-95): 100%|██████████| 64/64 [00:10<00:00,  6.01it/s]"
     ]
    },
    {
     "name": "stdout",
     "output_type": "stream",
     "text": [
      "                   all       2046       2132      0.973       0.96      0.981      0.699\n"
     ]
    },
    {
     "name": "stderr",
     "output_type": "stream",
     "text": [
      "\n"
     ]
    },
    {
     "name": "stdout",
     "output_type": "stream",
     "text": [
      "\n",
      "      Epoch    GPU_mem   box_loss   cls_loss   dfl_loss  Instances       Size\n"
     ]
    },
    {
     "name": "stderr",
     "output_type": "stream",
     "text": [
      "      29/60      2.52G      1.042     0.4978      1.131          7        640: 100%|██████████| 1324/1324 [02:45<00:00,  8.02it/s]\n",
      "                 Class     Images  Instances      Box(P          R      mAP50  mAP50-95): 100%|██████████| 64/64 [00:08<00:00,  7.97it/s]"
     ]
    },
    {
     "name": "stdout",
     "output_type": "stream",
     "text": [
      "                   all       2046       2132      0.974       0.96      0.983      0.703\n"
     ]
    },
    {
     "name": "stderr",
     "output_type": "stream",
     "text": [
      "\n"
     ]
    },
    {
     "name": "stdout",
     "output_type": "stream",
     "text": [
      "\n",
      "      Epoch    GPU_mem   box_loss   cls_loss   dfl_loss  Instances       Size\n"
     ]
    },
    {
     "name": "stderr",
     "output_type": "stream",
     "text": [
      "      30/60      2.53G      1.038     0.4935      1.129          7        640: 100%|██████████| 1324/1324 [02:39<00:00,  8.30it/s]\n",
      "                 Class     Images  Instances      Box(P          R      mAP50  mAP50-95): 100%|██████████| 64/64 [00:08<00:00,  7.82it/s]"
     ]
    },
    {
     "name": "stdout",
     "output_type": "stream",
     "text": [
      "                   all       2046       2132      0.975      0.957      0.983      0.707\n"
     ]
    },
    {
     "name": "stderr",
     "output_type": "stream",
     "text": [
      "\n"
     ]
    },
    {
     "name": "stdout",
     "output_type": "stream",
     "text": [
      "\n",
      "      Epoch    GPU_mem   box_loss   cls_loss   dfl_loss  Instances       Size\n"
     ]
    },
    {
     "name": "stderr",
     "output_type": "stream",
     "text": [
      "      31/60      2.53G      1.032     0.4918      1.124         11        640: 100%|██████████| 1324/1324 [02:38<00:00,  8.34it/s]\n",
      "                 Class     Images  Instances      Box(P          R      mAP50  mAP50-95): 100%|██████████| 64/64 [00:08<00:00,  7.72it/s]"
     ]
    },
    {
     "name": "stdout",
     "output_type": "stream",
     "text": [
      "                   all       2046       2132      0.977      0.956      0.982      0.704\n"
     ]
    },
    {
     "name": "stderr",
     "output_type": "stream",
     "text": [
      "\n"
     ]
    },
    {
     "name": "stdout",
     "output_type": "stream",
     "text": [
      "\n",
      "      Epoch    GPU_mem   box_loss   cls_loss   dfl_loss  Instances       Size\n"
     ]
    },
    {
     "name": "stderr",
     "output_type": "stream",
     "text": [
      "      32/60      2.52G      1.024     0.4834      1.122          6        640: 100%|██████████| 1324/1324 [02:40<00:00,  8.23it/s]\n",
      "                 Class     Images  Instances      Box(P          R      mAP50  mAP50-95): 100%|██████████| 64/64 [00:08<00:00,  7.79it/s]"
     ]
    },
    {
     "name": "stdout",
     "output_type": "stream",
     "text": [
      "                   all       2046       2132      0.975      0.959      0.982      0.704\n"
     ]
    },
    {
     "name": "stderr",
     "output_type": "stream",
     "text": [
      "\n"
     ]
    },
    {
     "name": "stdout",
     "output_type": "stream",
     "text": [
      "\n",
      "      Epoch    GPU_mem   box_loss   cls_loss   dfl_loss  Instances       Size\n"
     ]
    },
    {
     "name": "stderr",
     "output_type": "stream",
     "text": [
      "      33/60      2.53G      1.021     0.4797      1.122          9        640: 100%|██████████| 1324/1324 [02:40<00:00,  8.24it/s]\n",
      "                 Class     Images  Instances      Box(P          R      mAP50  mAP50-95): 100%|██████████| 64/64 [00:08<00:00,  7.58it/s]"
     ]
    },
    {
     "name": "stdout",
     "output_type": "stream",
     "text": [
      "                   all       2046       2132      0.976      0.958      0.984      0.706\n"
     ]
    },
    {
     "name": "stderr",
     "output_type": "stream",
     "text": [
      "\n"
     ]
    },
    {
     "name": "stdout",
     "output_type": "stream",
     "text": [
      "\n",
      "      Epoch    GPU_mem   box_loss   cls_loss   dfl_loss  Instances       Size\n"
     ]
    },
    {
     "name": "stderr",
     "output_type": "stream",
     "text": [
      "      34/60      2.53G      1.018     0.4735      1.117          8        640: 100%|██████████| 1324/1324 [02:41<00:00,  8.20it/s]\n",
      "                 Class     Images  Instances      Box(P          R      mAP50  mAP50-95): 100%|██████████| 64/64 [00:08<00:00,  7.59it/s]"
     ]
    },
    {
     "name": "stdout",
     "output_type": "stream",
     "text": [
      "                   all       2046       2132       0.98      0.952      0.984      0.707\n"
     ]
    },
    {
     "name": "stderr",
     "output_type": "stream",
     "text": [
      "\n"
     ]
    },
    {
     "name": "stdout",
     "output_type": "stream",
     "text": [
      "\n",
      "      Epoch    GPU_mem   box_loss   cls_loss   dfl_loss  Instances       Size\n"
     ]
    },
    {
     "name": "stderr",
     "output_type": "stream",
     "text": [
      "      35/60      2.53G      1.011     0.4745      1.118         13        640: 100%|██████████| 1324/1324 [02:42<00:00,  8.16it/s]\n",
      "                 Class     Images  Instances      Box(P          R      mAP50  mAP50-95): 100%|██████████| 64/64 [00:08<00:00,  7.56it/s]"
     ]
    },
    {
     "name": "stdout",
     "output_type": "stream",
     "text": [
      "                   all       2046       2132       0.98      0.955      0.984      0.707\n"
     ]
    },
    {
     "name": "stderr",
     "output_type": "stream",
     "text": [
      "\n"
     ]
    },
    {
     "name": "stdout",
     "output_type": "stream",
     "text": [
      "\n",
      "      Epoch    GPU_mem   box_loss   cls_loss   dfl_loss  Instances       Size\n"
     ]
    },
    {
     "name": "stderr",
     "output_type": "stream",
     "text": [
      "      36/60      2.52G      1.007     0.4659      1.111          9        640: 100%|██████████| 1324/1324 [02:42<00:00,  8.16it/s]\n",
      "                 Class     Images  Instances      Box(P          R      mAP50  mAP50-95): 100%|██████████| 64/64 [00:08<00:00,  7.44it/s]"
     ]
    },
    {
     "name": "stdout",
     "output_type": "stream",
     "text": [
      "                   all       2046       2132      0.973      0.962      0.984      0.706\n"
     ]
    },
    {
     "name": "stderr",
     "output_type": "stream",
     "text": [
      "\n"
     ]
    },
    {
     "name": "stdout",
     "output_type": "stream",
     "text": [
      "\n",
      "      Epoch    GPU_mem   box_loss   cls_loss   dfl_loss  Instances       Size\n"
     ]
    },
    {
     "name": "stderr",
     "output_type": "stream",
     "text": [
      "      37/60      2.53G          1     0.4624      1.106          9        640: 100%|██████████| 1324/1324 [02:40<00:00,  8.22it/s]\n",
      "                 Class     Images  Instances      Box(P          R      mAP50  mAP50-95): 100%|██████████| 64/64 [00:08<00:00,  7.57it/s]"
     ]
    },
    {
     "name": "stdout",
     "output_type": "stream",
     "text": [
      "                   all       2046       2132      0.976       0.96      0.984      0.706\n"
     ]
    },
    {
     "name": "stderr",
     "output_type": "stream",
     "text": [
      "\n"
     ]
    },
    {
     "name": "stdout",
     "output_type": "stream",
     "text": [
      "\n",
      "      Epoch    GPU_mem   box_loss   cls_loss   dfl_loss  Instances       Size\n"
     ]
    },
    {
     "name": "stderr",
     "output_type": "stream",
     "text": [
      "      38/60      2.53G      1.003     0.4591      1.108         10        640: 100%|██████████| 1324/1324 [02:41<00:00,  8.19it/s]\n",
      "                 Class     Images  Instances      Box(P          R      mAP50  mAP50-95): 100%|██████████| 64/64 [00:08<00:00,  7.61it/s]"
     ]
    },
    {
     "name": "stdout",
     "output_type": "stream",
     "text": [
      "                   all       2046       2132      0.978       0.96      0.984      0.706\n"
     ]
    },
    {
     "name": "stderr",
     "output_type": "stream",
     "text": [
      "\n"
     ]
    },
    {
     "name": "stdout",
     "output_type": "stream",
     "text": [
      "\n",
      "      Epoch    GPU_mem   box_loss   cls_loss   dfl_loss  Instances       Size\n"
     ]
    },
    {
     "name": "stderr",
     "output_type": "stream",
     "text": [
      "      39/60      2.53G      0.995     0.4549      1.104         10        640: 100%|██████████| 1324/1324 [02:41<00:00,  8.20it/s]\n",
      "                 Class     Images  Instances      Box(P          R      mAP50  mAP50-95): 100%|██████████| 64/64 [00:08<00:00,  7.61it/s]"
     ]
    },
    {
     "name": "stdout",
     "output_type": "stream",
     "text": [
      "                   all       2046       2132      0.977      0.962      0.985      0.708\n"
     ]
    },
    {
     "name": "stderr",
     "output_type": "stream",
     "text": [
      "\n"
     ]
    },
    {
     "name": "stdout",
     "output_type": "stream",
     "text": [
      "\n",
      "      Epoch    GPU_mem   box_loss   cls_loss   dfl_loss  Instances       Size\n"
     ]
    },
    {
     "name": "stderr",
     "output_type": "stream",
     "text": [
      "      40/60      2.52G     0.9992     0.4537      1.103          5        640: 100%|██████████| 1324/1324 [02:42<00:00,  8.16it/s]\n",
      "                 Class     Images  Instances      Box(P          R      mAP50  mAP50-95): 100%|██████████| 64/64 [00:08<00:00,  7.51it/s]"
     ]
    },
    {
     "name": "stdout",
     "output_type": "stream",
     "text": [
      "                   all       2046       2132      0.977      0.958      0.983      0.707\n"
     ]
    },
    {
     "name": "stderr",
     "output_type": "stream",
     "text": [
      "\n"
     ]
    },
    {
     "name": "stdout",
     "output_type": "stream",
     "text": [
      "\n",
      "      Epoch    GPU_mem   box_loss   cls_loss   dfl_loss  Instances       Size\n"
     ]
    },
    {
     "name": "stderr",
     "output_type": "stream",
     "text": [
      "      41/60      2.53G     0.9887       0.45      1.102         11        640: 100%|██████████| 1324/1324 [02:42<00:00,  8.15it/s]\n",
      "                 Class     Images  Instances      Box(P          R      mAP50  mAP50-95): 100%|██████████| 64/64 [00:08<00:00,  7.53it/s]"
     ]
    },
    {
     "name": "stdout",
     "output_type": "stream",
     "text": [
      "                   all       2046       2132      0.979      0.958      0.984      0.707\n"
     ]
    },
    {
     "name": "stderr",
     "output_type": "stream",
     "text": [
      "\n"
     ]
    },
    {
     "name": "stdout",
     "output_type": "stream",
     "text": [
      "\n",
      "      Epoch    GPU_mem   box_loss   cls_loss   dfl_loss  Instances       Size\n"
     ]
    },
    {
     "name": "stderr",
     "output_type": "stream",
     "text": [
      "      42/60      2.53G     0.9818     0.4457      1.097         10        640: 100%|██████████| 1324/1324 [02:41<00:00,  8.19it/s]\n",
      "                 Class     Images  Instances      Box(P          R      mAP50  mAP50-95): 100%|██████████| 64/64 [00:08<00:00,  7.60it/s]"
     ]
    },
    {
     "name": "stdout",
     "output_type": "stream",
     "text": [
      "                   all       2046       2132      0.977      0.958      0.984      0.707\n"
     ]
    },
    {
     "name": "stderr",
     "output_type": "stream",
     "text": [
      "\n"
     ]
    },
    {
     "name": "stdout",
     "output_type": "stream",
     "text": [
      "\n",
      "      Epoch    GPU_mem   box_loss   cls_loss   dfl_loss  Instances       Size\n"
     ]
    },
    {
     "name": "stderr",
     "output_type": "stream",
     "text": [
      "      43/60      2.53G     0.9776     0.4419      1.094          9        640: 100%|██████████| 1324/1324 [02:41<00:00,  8.20it/s]\n",
      "                 Class     Images  Instances      Box(P          R      mAP50  mAP50-95): 100%|██████████| 64/64 [00:08<00:00,  7.57it/s]"
     ]
    },
    {
     "name": "stdout",
     "output_type": "stream",
     "text": [
      "                   all       2046       2132      0.976      0.958      0.984      0.707\n"
     ]
    },
    {
     "name": "stderr",
     "output_type": "stream",
     "text": [
      "\n"
     ]
    },
    {
     "name": "stdout",
     "output_type": "stream",
     "text": [
      "\n",
      "      Epoch    GPU_mem   box_loss   cls_loss   dfl_loss  Instances       Size\n"
     ]
    },
    {
     "name": "stderr",
     "output_type": "stream",
     "text": [
      "      44/60      2.52G     0.9745     0.4387      1.089          5        640: 100%|██████████| 1324/1324 [02:42<00:00,  8.14it/s]\n",
      "                 Class     Images  Instances      Box(P          R      mAP50  mAP50-95): 100%|██████████| 64/64 [00:09<00:00,  6.79it/s]"
     ]
    },
    {
     "name": "stdout",
     "output_type": "stream",
     "text": [
      "                   all       2046       2132      0.965      0.971      0.984      0.707\n"
     ]
    },
    {
     "name": "stderr",
     "output_type": "stream",
     "text": [
      "\n"
     ]
    },
    {
     "name": "stdout",
     "output_type": "stream",
     "text": [
      "\n",
      "      Epoch    GPU_mem   box_loss   cls_loss   dfl_loss  Instances       Size\n"
     ]
    },
    {
     "name": "stderr",
     "output_type": "stream",
     "text": [
      "      45/60      2.52G     0.9676     0.4365      1.083          4        640: 100%|██████████| 1324/1324 [02:43<00:00,  8.12it/s]\n",
      "                 Class     Images  Instances      Box(P          R      mAP50  mAP50-95): 100%|██████████| 64/64 [00:08<00:00,  7.47it/s]"
     ]
    },
    {
     "name": "stdout",
     "output_type": "stream",
     "text": [
      "                   all       2046       2132      0.981      0.958      0.984      0.707\n"
     ]
    },
    {
     "name": "stderr",
     "output_type": "stream",
     "text": [
      "\n"
     ]
    },
    {
     "name": "stdout",
     "output_type": "stream",
     "text": [
      "\n",
      "      Epoch    GPU_mem   box_loss   cls_loss   dfl_loss  Instances       Size\n"
     ]
    },
    {
     "name": "stderr",
     "output_type": "stream",
     "text": [
      "      46/60      2.53G     0.9653      0.432      1.087         10        640: 100%|██████████| 1324/1324 [02:38<00:00,  8.36it/s]\n",
      "                 Class     Images  Instances      Box(P          R      mAP50  mAP50-95): 100%|██████████| 64/64 [00:08<00:00,  7.94it/s]"
     ]
    },
    {
     "name": "stdout",
     "output_type": "stream",
     "text": [
      "                   all       2046       2132      0.979      0.958      0.984      0.707\n"
     ]
    },
    {
     "name": "stderr",
     "output_type": "stream",
     "text": [
      "\n"
     ]
    },
    {
     "name": "stdout",
     "output_type": "stream",
     "text": [
      "\n",
      "      Epoch    GPU_mem   box_loss   cls_loss   dfl_loss  Instances       Size\n"
     ]
    },
    {
     "name": "stderr",
     "output_type": "stream",
     "text": [
      "      47/60      2.53G     0.9541     0.4258      1.079         11        640: 100%|██████████| 1324/1324 [02:37<00:00,  8.38it/s]\n",
      "                 Class     Images  Instances      Box(P          R      mAP50  mAP50-95): 100%|██████████| 64/64 [00:08<00:00,  7.69it/s]"
     ]
    },
    {
     "name": "stdout",
     "output_type": "stream",
     "text": [
      "                   all       2046       2132      0.977       0.96      0.984      0.708\n"
     ]
    },
    {
     "name": "stderr",
     "output_type": "stream",
     "text": [
      "\n"
     ]
    },
    {
     "name": "stdout",
     "output_type": "stream",
     "text": [
      "\n",
      "      Epoch    GPU_mem   box_loss   cls_loss   dfl_loss  Instances       Size\n"
     ]
    },
    {
     "name": "stderr",
     "output_type": "stream",
     "text": [
      "      48/60      2.52G     0.9532     0.4227      1.085          5        640: 100%|██████████| 1324/1324 [02:38<00:00,  8.36it/s]\n",
      "                 Class     Images  Instances      Box(P          R      mAP50  mAP50-95): 100%|██████████| 64/64 [00:08<00:00,  7.66it/s]"
     ]
    },
    {
     "name": "stdout",
     "output_type": "stream",
     "text": [
      "                   all       2046       2132      0.978      0.961      0.985      0.708\n"
     ]
    },
    {
     "name": "stderr",
     "output_type": "stream",
     "text": [
      "\n"
     ]
    },
    {
     "name": "stdout",
     "output_type": "stream",
     "text": [
      "\n",
      "      Epoch    GPU_mem   box_loss   cls_loss   dfl_loss  Instances       Size\n"
     ]
    },
    {
     "name": "stderr",
     "output_type": "stream",
     "text": [
      "      49/60      2.53G     0.9495     0.4215      1.077          8        640: 100%|██████████| 1324/1324 [02:38<00:00,  8.36it/s]\n",
      "                 Class     Images  Instances      Box(P          R      mAP50  mAP50-95): 100%|██████████| 64/64 [00:08<00:00,  7.60it/s]"
     ]
    },
    {
     "name": "stdout",
     "output_type": "stream",
     "text": [
      "                   all       2046       2132      0.978      0.961      0.984      0.708\n"
     ]
    },
    {
     "name": "stderr",
     "output_type": "stream",
     "text": [
      "\n"
     ]
    },
    {
     "name": "stdout",
     "output_type": "stream",
     "text": [
      "\n",
      "      Epoch    GPU_mem   box_loss   cls_loss   dfl_loss  Instances       Size\n"
     ]
    },
    {
     "name": "stderr",
     "output_type": "stream",
     "text": [
      "      50/60      2.53G     0.9454      0.416      1.076          8        640: 100%|██████████| 1324/1324 [02:38<00:00,  8.37it/s]\n",
      "                 Class     Images  Instances      Box(P          R      mAP50  mAP50-95): 100%|██████████| 64/64 [00:08<00:00,  7.63it/s]"
     ]
    },
    {
     "name": "stdout",
     "output_type": "stream",
     "text": [
      "                   all       2046       2132      0.981      0.958      0.984      0.709\n"
     ]
    },
    {
     "name": "stderr",
     "output_type": "stream",
     "text": [
      "\n"
     ]
    },
    {
     "name": "stdout",
     "output_type": "stream",
     "text": [
      "Closing dataloader mosaic\n",
      "\n",
      "      Epoch    GPU_mem   box_loss   cls_loss   dfl_loss  Instances       Size\n"
     ]
    },
    {
     "name": "stderr",
     "output_type": "stream",
     "text": [
      "      51/60      2.52G      0.933      0.356      1.092          6        640: 100%|██████████| 1324/1324 [02:38<00:00,  8.38it/s]\n",
      "                 Class     Images  Instances      Box(P          R      mAP50  mAP50-95): 100%|██████████| 64/64 [00:08<00:00,  7.58it/s]"
     ]
    },
    {
     "name": "stdout",
     "output_type": "stream",
     "text": [
      "                   all       2046       2132       0.98      0.958      0.984      0.709\n"
     ]
    },
    {
     "name": "stderr",
     "output_type": "stream",
     "text": [
      "\n"
     ]
    },
    {
     "name": "stdout",
     "output_type": "stream",
     "text": [
      "\n",
      "      Epoch    GPU_mem   box_loss   cls_loss   dfl_loss  Instances       Size\n"
     ]
    },
    {
     "name": "stderr",
     "output_type": "stream",
     "text": [
      "      52/60      2.52G     0.9249     0.3488      1.087          5        640: 100%|██████████| 1324/1324 [02:36<00:00,  8.44it/s]\n",
      "                 Class     Images  Instances      Box(P          R      mAP50  mAP50-95): 100%|██████████| 64/64 [00:08<00:00,  7.59it/s]"
     ]
    },
    {
     "name": "stdout",
     "output_type": "stream",
     "text": [
      "                   all       2046       2132      0.976      0.959      0.984      0.709\n"
     ]
    },
    {
     "name": "stderr",
     "output_type": "stream",
     "text": [
      "\n"
     ]
    },
    {
     "name": "stdout",
     "output_type": "stream",
     "text": [
      "\n",
      "      Epoch    GPU_mem   box_loss   cls_loss   dfl_loss  Instances       Size\n"
     ]
    },
    {
     "name": "stderr",
     "output_type": "stream",
     "text": [
      "      53/60      2.53G     0.9139     0.3447       1.08          7        640: 100%|██████████| 1324/1324 [02:37<00:00,  8.43it/s]\n",
      "                 Class     Images  Instances      Box(P          R      mAP50  mAP50-95): 100%|██████████| 64/64 [00:08<00:00,  7.63it/s]"
     ]
    },
    {
     "name": "stdout",
     "output_type": "stream",
     "text": [
      "                   all       2046       2132      0.977      0.958      0.984      0.708\n"
     ]
    },
    {
     "name": "stderr",
     "output_type": "stream",
     "text": [
      "\n"
     ]
    },
    {
     "name": "stdout",
     "output_type": "stream",
     "text": [
      "\n",
      "      Epoch    GPU_mem   box_loss   cls_loss   dfl_loss  Instances       Size\n"
     ]
    },
    {
     "name": "stderr",
     "output_type": "stream",
     "text": [
      "      54/60      2.52G     0.9072     0.3417       1.08          5        640: 100%|██████████| 1324/1324 [02:37<00:00,  8.43it/s]\n",
      "                 Class     Images  Instances      Box(P          R      mAP50  mAP50-95): 100%|██████████| 64/64 [00:08<00:00,  7.59it/s]"
     ]
    },
    {
     "name": "stdout",
     "output_type": "stream",
     "text": [
      "                   all       2046       2132      0.977      0.958      0.983      0.708\n"
     ]
    },
    {
     "name": "stderr",
     "output_type": "stream",
     "text": [
      "\n"
     ]
    },
    {
     "name": "stdout",
     "output_type": "stream",
     "text": [
      "\n",
      "      Epoch    GPU_mem   box_loss   cls_loss   dfl_loss  Instances       Size\n"
     ]
    },
    {
     "name": "stderr",
     "output_type": "stream",
     "text": [
      "      55/60      2.52G     0.8996     0.3363      1.066          4        640: 100%|██████████| 1324/1324 [02:36<00:00,  8.44it/s]\n",
      "                 Class     Images  Instances      Box(P          R      mAP50  mAP50-95): 100%|██████████| 64/64 [00:08<00:00,  7.59it/s]"
     ]
    },
    {
     "name": "stdout",
     "output_type": "stream",
     "text": [
      "                   all       2046       2132      0.978      0.958      0.983      0.709\n"
     ]
    },
    {
     "name": "stderr",
     "output_type": "stream",
     "text": [
      "\n"
     ]
    },
    {
     "name": "stdout",
     "output_type": "stream",
     "text": [
      "\n",
      "      Epoch    GPU_mem   box_loss   cls_loss   dfl_loss  Instances       Size\n"
     ]
    },
    {
     "name": "stderr",
     "output_type": "stream",
     "text": [
      "      56/60      2.52G     0.8916     0.3332      1.063          5        640: 100%|██████████| 1324/1324 [02:37<00:00,  8.41it/s]\n",
      "                 Class     Images  Instances      Box(P          R      mAP50  mAP50-95): 100%|██████████| 64/64 [00:08<00:00,  7.60it/s]"
     ]
    },
    {
     "name": "stdout",
     "output_type": "stream",
     "text": [
      "                   all       2046       2132      0.978      0.958      0.983      0.709\n"
     ]
    },
    {
     "name": "stderr",
     "output_type": "stream",
     "text": [
      "\n"
     ]
    },
    {
     "name": "stdout",
     "output_type": "stream",
     "text": [
      "\n",
      "      Epoch    GPU_mem   box_loss   cls_loss   dfl_loss  Instances       Size\n"
     ]
    },
    {
     "name": "stderr",
     "output_type": "stream",
     "text": [
      "      57/60      2.53G     0.8834     0.3275       1.05          7        640: 100%|██████████| 1324/1324 [02:38<00:00,  8.36it/s]\n",
      "                 Class     Images  Instances      Box(P          R      mAP50  mAP50-95): 100%|██████████| 64/64 [00:08<00:00,  7.55it/s]"
     ]
    },
    {
     "name": "stdout",
     "output_type": "stream",
     "text": [
      "                   all       2046       2132      0.973      0.964      0.984      0.709\n"
     ]
    },
    {
     "name": "stderr",
     "output_type": "stream",
     "text": [
      "\n"
     ]
    },
    {
     "name": "stdout",
     "output_type": "stream",
     "text": [
      "\n",
      "      Epoch    GPU_mem   box_loss   cls_loss   dfl_loss  Instances       Size\n"
     ]
    },
    {
     "name": "stderr",
     "output_type": "stream",
     "text": [
      "      58/60      2.53G     0.8781     0.3246       1.05          7        640: 100%|██████████| 1324/1324 [02:40<00:00,  8.26it/s]\n",
      "                 Class     Images  Instances      Box(P          R      mAP50  mAP50-95): 100%|██████████| 64/64 [00:08<00:00,  7.58it/s]"
     ]
    },
    {
     "name": "stdout",
     "output_type": "stream",
     "text": [
      "                   all       2046       2132      0.972      0.965      0.984       0.71\n"
     ]
    },
    {
     "name": "stderr",
     "output_type": "stream",
     "text": [
      "\n"
     ]
    },
    {
     "name": "stdout",
     "output_type": "stream",
     "text": [
      "\n",
      "      Epoch    GPU_mem   box_loss   cls_loss   dfl_loss  Instances       Size\n"
     ]
    },
    {
     "name": "stderr",
     "output_type": "stream",
     "text": [
      "      59/60      2.52G     0.8688       0.32       1.05          5        640: 100%|██████████| 1324/1324 [02:40<00:00,  8.25it/s]\n",
      "                 Class     Images  Instances      Box(P          R      mAP50  mAP50-95): 100%|██████████| 64/64 [00:08<00:00,  7.53it/s]"
     ]
    },
    {
     "name": "stdout",
     "output_type": "stream",
     "text": [
      "                   all       2046       2132      0.973      0.964      0.984       0.71\n"
     ]
    },
    {
     "name": "stderr",
     "output_type": "stream",
     "text": [
      "\n"
     ]
    },
    {
     "name": "stdout",
     "output_type": "stream",
     "text": [
      "\n",
      "      Epoch    GPU_mem   box_loss   cls_loss   dfl_loss  Instances       Size\n"
     ]
    },
    {
     "name": "stderr",
     "output_type": "stream",
     "text": [
      "      60/60      2.52G     0.8646     0.3166      1.047          5        640: 100%|██████████| 1324/1324 [02:39<00:00,  8.29it/s]\n",
      "                 Class     Images  Instances      Box(P          R      mAP50  mAP50-95): 100%|██████████| 64/64 [00:08<00:00,  7.62it/s]"
     ]
    },
    {
     "name": "stdout",
     "output_type": "stream",
     "text": [
      "                   all       2046       2132      0.973      0.965      0.984       0.71\n"
     ]
    },
    {
     "name": "stderr",
     "output_type": "stream",
     "text": [
      "\n"
     ]
    },
    {
     "name": "stdout",
     "output_type": "stream",
     "text": [
      "\n",
      "60 epochs completed in 2.806 hours.\n",
      "Optimizer stripped from runs\\detect\\train\\weights\\last.pt, 5.5MB\n",
      "Optimizer stripped from runs\\detect\\train\\weights\\best.pt, 5.5MB\n",
      "\n",
      "Validating runs\\detect\\train\\weights\\best.pt...\n",
      "Ultralytics 8.3.11  Python-3.9.20 torch-2.4.1 CUDA:0 (NVIDIA GeForce RTX 4060 Laptop GPU, 8188MiB)\n",
      "YOLO11n summary (fused): 238 layers, 2,582,347 parameters, 0 gradients, 6.3 GFLOPs\n"
     ]
    },
    {
     "name": "stderr",
     "output_type": "stream",
     "text": [
      "                 Class     Images  Instances      Box(P          R      mAP50  mAP50-95): 100%|██████████| 64/64 [00:08<00:00,  7.42it/s]\n"
     ]
    },
    {
     "name": "stdout",
     "output_type": "stream",
     "text": [
      "                   all       2046       2132      0.973      0.964      0.984       0.71\n",
      "Speed: 0.2ms preprocess, 1.5ms inference, 0.0ms loss, 0.6ms postprocess per image\n",
      "Results saved to \u001b[1mruns\\detect\\train\u001b[0m\n"
     ]
    },
    {
     "data": {
      "text/plain": [
       "ultralytics.utils.metrics.DetMetrics object with attributes:\n",
       "\n",
       "ap_class_index: array([0])\n",
       "box: ultralytics.utils.metrics.Metric object\n",
       "confusion_matrix: <ultralytics.utils.metrics.ConfusionMatrix object at 0x000001C1D3F6C3D0>\n",
       "curves: ['Precision-Recall(B)', 'F1-Confidence(B)', 'Precision-Confidence(B)', 'Recall-Confidence(B)']\n",
       "curves_results: [[array([          0,    0.001001,    0.002002,    0.003003,    0.004004,    0.005005,    0.006006,    0.007007,    0.008008,    0.009009,     0.01001,    0.011011,    0.012012,    0.013013,    0.014014,    0.015015,    0.016016,    0.017017,    0.018018,    0.019019,     0.02002,    0.021021,    0.022022,    0.023023,\n",
       "          0.024024,    0.025025,    0.026026,    0.027027,    0.028028,    0.029029,     0.03003,    0.031031,    0.032032,    0.033033,    0.034034,    0.035035,    0.036036,    0.037037,    0.038038,    0.039039,     0.04004,    0.041041,    0.042042,    0.043043,    0.044044,    0.045045,    0.046046,    0.047047,\n",
       "          0.048048,    0.049049,     0.05005,    0.051051,    0.052052,    0.053053,    0.054054,    0.055055,    0.056056,    0.057057,    0.058058,    0.059059,     0.06006,    0.061061,    0.062062,    0.063063,    0.064064,    0.065065,    0.066066,    0.067067,    0.068068,    0.069069,     0.07007,    0.071071,\n",
       "          0.072072,    0.073073,    0.074074,    0.075075,    0.076076,    0.077077,    0.078078,    0.079079,     0.08008,    0.081081,    0.082082,    0.083083,    0.084084,    0.085085,    0.086086,    0.087087,    0.088088,    0.089089,     0.09009,    0.091091,    0.092092,    0.093093,    0.094094,    0.095095,\n",
       "          0.096096,    0.097097,    0.098098,    0.099099,      0.1001,      0.1011,      0.1021,      0.1031,      0.1041,     0.10511,     0.10611,     0.10711,     0.10811,     0.10911,     0.11011,     0.11111,     0.11211,     0.11311,     0.11411,     0.11512,     0.11612,     0.11712,     0.11812,     0.11912,\n",
       "           0.12012,     0.12112,     0.12212,     0.12312,     0.12412,     0.12513,     0.12613,     0.12713,     0.12813,     0.12913,     0.13013,     0.13113,     0.13213,     0.13313,     0.13413,     0.13514,     0.13614,     0.13714,     0.13814,     0.13914,     0.14014,     0.14114,     0.14214,     0.14314,\n",
       "           0.14414,     0.14515,     0.14615,     0.14715,     0.14815,     0.14915,     0.15015,     0.15115,     0.15215,     0.15315,     0.15415,     0.15516,     0.15616,     0.15716,     0.15816,     0.15916,     0.16016,     0.16116,     0.16216,     0.16316,     0.16416,     0.16517,     0.16617,     0.16717,\n",
       "           0.16817,     0.16917,     0.17017,     0.17117,     0.17217,     0.17317,     0.17417,     0.17518,     0.17618,     0.17718,     0.17818,     0.17918,     0.18018,     0.18118,     0.18218,     0.18318,     0.18418,     0.18519,     0.18619,     0.18719,     0.18819,     0.18919,     0.19019,     0.19119,\n",
       "           0.19219,     0.19319,     0.19419,      0.1952,      0.1962,      0.1972,      0.1982,      0.1992,      0.2002,      0.2012,      0.2022,      0.2032,      0.2042,     0.20521,     0.20621,     0.20721,     0.20821,     0.20921,     0.21021,     0.21121,     0.21221,     0.21321,     0.21421,     0.21522,\n",
       "           0.21622,     0.21722,     0.21822,     0.21922,     0.22022,     0.22122,     0.22222,     0.22322,     0.22422,     0.22523,     0.22623,     0.22723,     0.22823,     0.22923,     0.23023,     0.23123,     0.23223,     0.23323,     0.23423,     0.23524,     0.23624,     0.23724,     0.23824,     0.23924,\n",
       "           0.24024,     0.24124,     0.24224,     0.24324,     0.24424,     0.24525,     0.24625,     0.24725,     0.24825,     0.24925,     0.25025,     0.25125,     0.25225,     0.25325,     0.25425,     0.25526,     0.25626,     0.25726,     0.25826,     0.25926,     0.26026,     0.26126,     0.26226,     0.26326,\n",
       "           0.26426,     0.26527,     0.26627,     0.26727,     0.26827,     0.26927,     0.27027,     0.27127,     0.27227,     0.27327,     0.27427,     0.27528,     0.27628,     0.27728,     0.27828,     0.27928,     0.28028,     0.28128,     0.28228,     0.28328,     0.28428,     0.28529,     0.28629,     0.28729,\n",
       "           0.28829,     0.28929,     0.29029,     0.29129,     0.29229,     0.29329,     0.29429,      0.2953,      0.2963,      0.2973,      0.2983,      0.2993,      0.3003,      0.3013,      0.3023,      0.3033,      0.3043,     0.30531,     0.30631,     0.30731,     0.30831,     0.30931,     0.31031,     0.31131,\n",
       "           0.31231,     0.31331,     0.31431,     0.31532,     0.31632,     0.31732,     0.31832,     0.31932,     0.32032,     0.32132,     0.32232,     0.32332,     0.32432,     0.32533,     0.32633,     0.32733,     0.32833,     0.32933,     0.33033,     0.33133,     0.33233,     0.33333,     0.33433,     0.33534,\n",
       "           0.33634,     0.33734,     0.33834,     0.33934,     0.34034,     0.34134,     0.34234,     0.34334,     0.34434,     0.34535,     0.34635,     0.34735,     0.34835,     0.34935,     0.35035,     0.35135,     0.35235,     0.35335,     0.35435,     0.35536,     0.35636,     0.35736,     0.35836,     0.35936,\n",
       "           0.36036,     0.36136,     0.36236,     0.36336,     0.36436,     0.36537,     0.36637,     0.36737,     0.36837,     0.36937,     0.37037,     0.37137,     0.37237,     0.37337,     0.37437,     0.37538,     0.37638,     0.37738,     0.37838,     0.37938,     0.38038,     0.38138,     0.38238,     0.38338,\n",
       "           0.38438,     0.38539,     0.38639,     0.38739,     0.38839,     0.38939,     0.39039,     0.39139,     0.39239,     0.39339,     0.39439,      0.3954,      0.3964,      0.3974,      0.3984,      0.3994,      0.4004,      0.4014,      0.4024,      0.4034,      0.4044,     0.40541,     0.40641,     0.40741,\n",
       "           0.40841,     0.40941,     0.41041,     0.41141,     0.41241,     0.41341,     0.41441,     0.41542,     0.41642,     0.41742,     0.41842,     0.41942,     0.42042,     0.42142,     0.42242,     0.42342,     0.42442,     0.42543,     0.42643,     0.42743,     0.42843,     0.42943,     0.43043,     0.43143,\n",
       "           0.43243,     0.43343,     0.43443,     0.43544,     0.43644,     0.43744,     0.43844,     0.43944,     0.44044,     0.44144,     0.44244,     0.44344,     0.44444,     0.44545,     0.44645,     0.44745,     0.44845,     0.44945,     0.45045,     0.45145,     0.45245,     0.45345,     0.45445,     0.45546,\n",
       "           0.45646,     0.45746,     0.45846,     0.45946,     0.46046,     0.46146,     0.46246,     0.46346,     0.46446,     0.46547,     0.46647,     0.46747,     0.46847,     0.46947,     0.47047,     0.47147,     0.47247,     0.47347,     0.47447,     0.47548,     0.47648,     0.47748,     0.47848,     0.47948,\n",
       "           0.48048,     0.48148,     0.48248,     0.48348,     0.48448,     0.48549,     0.48649,     0.48749,     0.48849,     0.48949,     0.49049,     0.49149,     0.49249,     0.49349,     0.49449,      0.4955,      0.4965,      0.4975,      0.4985,      0.4995,      0.5005,      0.5015,      0.5025,      0.5035,\n",
       "            0.5045,     0.50551,     0.50651,     0.50751,     0.50851,     0.50951,     0.51051,     0.51151,     0.51251,     0.51351,     0.51451,     0.51552,     0.51652,     0.51752,     0.51852,     0.51952,     0.52052,     0.52152,     0.52252,     0.52352,     0.52452,     0.52553,     0.52653,     0.52753,\n",
       "           0.52853,     0.52953,     0.53053,     0.53153,     0.53253,     0.53353,     0.53453,     0.53554,     0.53654,     0.53754,     0.53854,     0.53954,     0.54054,     0.54154,     0.54254,     0.54354,     0.54454,     0.54555,     0.54655,     0.54755,     0.54855,     0.54955,     0.55055,     0.55155,\n",
       "           0.55255,     0.55355,     0.55455,     0.55556,     0.55656,     0.55756,     0.55856,     0.55956,     0.56056,     0.56156,     0.56256,     0.56356,     0.56456,     0.56557,     0.56657,     0.56757,     0.56857,     0.56957,     0.57057,     0.57157,     0.57257,     0.57357,     0.57457,     0.57558,\n",
       "           0.57658,     0.57758,     0.57858,     0.57958,     0.58058,     0.58158,     0.58258,     0.58358,     0.58458,     0.58559,     0.58659,     0.58759,     0.58859,     0.58959,     0.59059,     0.59159,     0.59259,     0.59359,     0.59459,      0.5956,      0.5966,      0.5976,      0.5986,      0.5996,\n",
       "            0.6006,      0.6016,      0.6026,      0.6036,      0.6046,     0.60561,     0.60661,     0.60761,     0.60861,     0.60961,     0.61061,     0.61161,     0.61261,     0.61361,     0.61461,     0.61562,     0.61662,     0.61762,     0.61862,     0.61962,     0.62062,     0.62162,     0.62262,     0.62362,\n",
       "           0.62462,     0.62563,     0.62663,     0.62763,     0.62863,     0.62963,     0.63063,     0.63163,     0.63263,     0.63363,     0.63463,     0.63564,     0.63664,     0.63764,     0.63864,     0.63964,     0.64064,     0.64164,     0.64264,     0.64364,     0.64464,     0.64565,     0.64665,     0.64765,\n",
       "           0.64865,     0.64965,     0.65065,     0.65165,     0.65265,     0.65365,     0.65465,     0.65566,     0.65666,     0.65766,     0.65866,     0.65966,     0.66066,     0.66166,     0.66266,     0.66366,     0.66466,     0.66567,     0.66667,     0.66767,     0.66867,     0.66967,     0.67067,     0.67167,\n",
       "           0.67267,     0.67367,     0.67467,     0.67568,     0.67668,     0.67768,     0.67868,     0.67968,     0.68068,     0.68168,     0.68268,     0.68368,     0.68468,     0.68569,     0.68669,     0.68769,     0.68869,     0.68969,     0.69069,     0.69169,     0.69269,     0.69369,     0.69469,      0.6957,\n",
       "            0.6967,      0.6977,      0.6987,      0.6997,      0.7007,      0.7017,      0.7027,      0.7037,      0.7047,     0.70571,     0.70671,     0.70771,     0.70871,     0.70971,     0.71071,     0.71171,     0.71271,     0.71371,     0.71471,     0.71572,     0.71672,     0.71772,     0.71872,     0.71972,\n",
       "           0.72072,     0.72172,     0.72272,     0.72372,     0.72472,     0.72573,     0.72673,     0.72773,     0.72873,     0.72973,     0.73073,     0.73173,     0.73273,     0.73373,     0.73473,     0.73574,     0.73674,     0.73774,     0.73874,     0.73974,     0.74074,     0.74174,     0.74274,     0.74374,\n",
       "           0.74474,     0.74575,     0.74675,     0.74775,     0.74875,     0.74975,     0.75075,     0.75175,     0.75275,     0.75375,     0.75475,     0.75576,     0.75676,     0.75776,     0.75876,     0.75976,     0.76076,     0.76176,     0.76276,     0.76376,     0.76476,     0.76577,     0.76677,     0.76777,\n",
       "           0.76877,     0.76977,     0.77077,     0.77177,     0.77277,     0.77377,     0.77477,     0.77578,     0.77678,     0.77778,     0.77878,     0.77978,     0.78078,     0.78178,     0.78278,     0.78378,     0.78478,     0.78579,     0.78679,     0.78779,     0.78879,     0.78979,     0.79079,     0.79179,\n",
       "           0.79279,     0.79379,     0.79479,      0.7958,      0.7968,      0.7978,      0.7988,      0.7998,      0.8008,      0.8018,      0.8028,      0.8038,      0.8048,     0.80581,     0.80681,     0.80781,     0.80881,     0.80981,     0.81081,     0.81181,     0.81281,     0.81381,     0.81481,     0.81582,\n",
       "           0.81682,     0.81782,     0.81882,     0.81982,     0.82082,     0.82182,     0.82282,     0.82382,     0.82482,     0.82583,     0.82683,     0.82783,     0.82883,     0.82983,     0.83083,     0.83183,     0.83283,     0.83383,     0.83483,     0.83584,     0.83684,     0.83784,     0.83884,     0.83984,\n",
       "           0.84084,     0.84184,     0.84284,     0.84384,     0.84484,     0.84585,     0.84685,     0.84785,     0.84885,     0.84985,     0.85085,     0.85185,     0.85285,     0.85385,     0.85485,     0.85586,     0.85686,     0.85786,     0.85886,     0.85986,     0.86086,     0.86186,     0.86286,     0.86386,\n",
       "           0.86486,     0.86587,     0.86687,     0.86787,     0.86887,     0.86987,     0.87087,     0.87187,     0.87287,     0.87387,     0.87487,     0.87588,     0.87688,     0.87788,     0.87888,     0.87988,     0.88088,     0.88188,     0.88288,     0.88388,     0.88488,     0.88589,     0.88689,     0.88789,\n",
       "           0.88889,     0.88989,     0.89089,     0.89189,     0.89289,     0.89389,     0.89489,      0.8959,      0.8969,      0.8979,      0.8989,      0.8999,      0.9009,      0.9019,      0.9029,      0.9039,      0.9049,     0.90591,     0.90691,     0.90791,     0.90891,     0.90991,     0.91091,     0.91191,\n",
       "           0.91291,     0.91391,     0.91491,     0.91592,     0.91692,     0.91792,     0.91892,     0.91992,     0.92092,     0.92192,     0.92292,     0.92392,     0.92492,     0.92593,     0.92693,     0.92793,     0.92893,     0.92993,     0.93093,     0.93193,     0.93293,     0.93393,     0.93493,     0.93594,\n",
       "           0.93694,     0.93794,     0.93894,     0.93994,     0.94094,     0.94194,     0.94294,     0.94394,     0.94494,     0.94595,     0.94695,     0.94795,     0.94895,     0.94995,     0.95095,     0.95195,     0.95295,     0.95395,     0.95495,     0.95596,     0.95696,     0.95796,     0.95896,     0.95996,\n",
       "           0.96096,     0.96196,     0.96296,     0.96396,     0.96496,     0.96597,     0.96697,     0.96797,     0.96897,     0.96997,     0.97097,     0.97197,     0.97297,     0.97397,     0.97497,     0.97598,     0.97698,     0.97798,     0.97898,     0.97998,     0.98098,     0.98198,     0.98298,     0.98398,\n",
       "           0.98498,     0.98599,     0.98699,     0.98799,     0.98899,     0.98999,     0.99099,     0.99199,     0.99299,     0.99399,     0.99499,       0.996,       0.997,       0.998,       0.999,           1]), array([[          1,           1,           1,           1,           1,           1,           1,           1,           1,           1,           1,           1,           1,           1,           1,           1,           1,           1,           1,           1,           1,           1,           1,\n",
       "                  1,           1,           1,           1,           1,           1,           1,           1,           1,           1,           1,           1,           1,           1,           1,           1,           1,           1,           1,           1,           1,           1,           1,\n",
       "                  1,           1,           1,           1,           1,           1,           1,           1,           1,           1,           1,           1,           1,           1,           1,           1,           1,           1,           1,           1,           1,           1,           1,\n",
       "                  1,           1,           1,           1,           1,           1,           1,           1,           1,           1,           1,           1,           1,           1,           1,           1,           1,           1,           1,           1,           1,           1,           1,\n",
       "                  1,           1,           1,           1,           1,           1,           1,           1,           1,           1,           1,           1,           1,           1,           1,           1,           1,           1,           1,           1,           1,           1,           1,\n",
       "                  1,           1,           1,           1,           1,           1,           1,           1,           1,           1,           1,           1,           1,           1,           1,           1,           1,           1,           1,           1,           1,           1,           1,\n",
       "                  1,           1,           1,           1,           1,           1,           1,           1,           1,           1,           1,           1,           1,           1,           1,           1,           1,           1,           1,           1,           1,           1,           1,\n",
       "                  1,           1,           1,           1,           1,           1,           1,           1,           1,           1,           1,           1,           1,           1,           1,           1,           1,           1,           1,           1,           1,           1,           1,\n",
       "                  1,           1,           1,           1,           1,           1,           1,           1,           1,           1,           1,           1,           1,           1,           1,           1,           1,           1,           1,           1,           1,           1,           1,\n",
       "                  1,           1,           1,           1,           1,           1,           1,           1,           1,           1,           1,           1,           1,           1,           1,           1,           1,           1,           1,           1,           1,           1,           1,\n",
       "                  1,           1,           1,           1,           1,           1,           1,           1,           1,           1,           1,           1,           1,           1,           1,           1,           1,           1,           1,           1,           1,           1,           1,\n",
       "                  1,           1,           1,           1,           1,           1,           1,           1,           1,           1,           1,           1,           1,           1,           1,           1,           1,           1,           1,           1,           1,           1,           1,\n",
       "                  1,           1,           1,           1,           1,           1,           1,           1,           1,           1,           1,           1,           1,           1,           1,           1,           1,           1,           1,           1,           1,           1,           1,\n",
       "                  1,           1,           1,           1,           1,           1,           1,           1,           1,           1,           1,           1,           1,           1,           1,           1,           1,           1,           1,           1,           1,           1,           1,\n",
       "                  1,           1,           1,           1,           1,           1,           1,           1,           1,           1,           1,           1,           1,           1,           1,           1,           1,           1,           1,           1,           1,           1,           1,\n",
       "                  1,           1,           1,           1,           1,           1,           1,           1,           1,           1,           1,           1,           1,           1,           1,           1,           1,           1,           1,           1,           1,           1,           1,\n",
       "                  1,           1,           1,           1,           1,           1,           1,           1,           1,           1,           1,           1,           1,           1,           1,           1,           1,           1,           1,           1,           1,           1,           1,\n",
       "                  1,           1,           1,           1,           1,           1,           1,           1,           1,           1,           1,           1,           1,           1,           1,           1,           1,           1,           1,           1,           1,           1,           1,\n",
       "                  1,           1,           1,           1,           1,           1,           1,           1,           1,           1,           1,           1,           1,           1,           1,           1,           1,           1,           1,           1,           1,           1,           1,\n",
       "                  1,           1,           1,           1,           1,           1,           1,           1,           1,           1,           1,           1,           1,           1,           1,           1,           1,           1,           1,           1,           1,           1,           1,\n",
       "                  1,           1,           1,           1,           1,           1,           1,           1,           1,           1,           1,           1,           1,           1,           1,           1,           1,           1,           1,           1,           1,           1,           1,\n",
       "                  1,           1,           1,           1,           1,           1,           1,           1,           1,           1,           1,           1,           1,           1,           1,           1,           1,           1,           1,           1,           1,           1,           1,\n",
       "                  1,           1,           1,           1,           1,           1,           1,           1,           1,           1,           1,           1,           1,           1,           1,           1,           1,           1,           1,           1,           1,           1,           1,\n",
       "                  1,           1,           1,           1,           1,           1,           1,           1,           1,           1,           1,           1,           1,           1,           1,           1,           1,           1,           1,           1,           1,           1,           1,\n",
       "                  1,           1,     0.99844,     0.99844,     0.99844,     0.99844,     0.99844,     0.99844,     0.99844,     0.99844,     0.99844,     0.99844,     0.99844,     0.99844,     0.99844,     0.99844,     0.99844,     0.99844,     0.99844,     0.99844,     0.99844,     0.99844,     0.99844,\n",
       "            0.99844,     0.99844,     0.99844,     0.99844,     0.99844,     0.99844,     0.99844,     0.99844,     0.99844,     0.99844,     0.99844,     0.99844,     0.99844,     0.99844,     0.99844,     0.99844,     0.99844,     0.99844,     0.99844,     0.99844,     0.99844,     0.99844,     0.99844,\n",
       "            0.99844,     0.99844,     0.99844,     0.99844,     0.99769,     0.99769,     0.99769,     0.99769,     0.99724,     0.99724,     0.99724,     0.99724,     0.99724,     0.99724,     0.99724,     0.99724,     0.99724,     0.99724,     0.99724,     0.99724,     0.99724,     0.99724,     0.99724,\n",
       "            0.99724,     0.99724,     0.99724,     0.99724,     0.99724,     0.99724,     0.99724,     0.99724,     0.99724,     0.99724,     0.99724,     0.99724,     0.99724,     0.99724,     0.99724,     0.99724,     0.99724,     0.99724,     0.99724,     0.99724,     0.99724,     0.99724,     0.99724,\n",
       "            0.99724,     0.99724,     0.99724,     0.99724,     0.99724,     0.99724,     0.99724,     0.99724,     0.99724,     0.99724,     0.99724,     0.99724,     0.99724,     0.99724,     0.99724,     0.99724,     0.99724,     0.99724,     0.99724,     0.99724,     0.99724,     0.99724,     0.99724,\n",
       "            0.99724,     0.99724,     0.99724,     0.99724,     0.99724,     0.99724,     0.99724,     0.99724,     0.99724,     0.99724,     0.99672,     0.99672,     0.99672,     0.99672,     0.99672,     0.99672,     0.99672,     0.99672,     0.99672,     0.99672,     0.99672,     0.99672,     0.99672,\n",
       "            0.99672,     0.99672,     0.99672,     0.99672,     0.99672,     0.99672,     0.99672,     0.99672,     0.99672,     0.99672,     0.99672,     0.99672,     0.99672,     0.99672,     0.99672,     0.99672,     0.99672,     0.99672,     0.99672,     0.99672,     0.99672,     0.99672,     0.99672,\n",
       "            0.99618,     0.99618,     0.99618,     0.99618,     0.99618,     0.99618,     0.99618,     0.99618,     0.99618,     0.99618,     0.99618,     0.99618,     0.99618,     0.99618,     0.99618,     0.99618,     0.99618,     0.99618,     0.99618,     0.99618,     0.99563,     0.99563,     0.99563,\n",
       "            0.99563,     0.99563,     0.99563,     0.99563,     0.99563,     0.99563,     0.99563,     0.99563,     0.99563,     0.99563,     0.99563,     0.99563,     0.99506,     0.99506,     0.99506,     0.99506,     0.99506,     0.99506,     0.99506,     0.99506,     0.99452,     0.99452,     0.99452,\n",
       "            0.99452,     0.99452,     0.99452,     0.99452,     0.99452,     0.99452,     0.99452,     0.99399,     0.99399,     0.99399,     0.99399,     0.99399,     0.99399,     0.99399,     0.99399,     0.99399,     0.99399,     0.99346,     0.99346,     0.99346,     0.99346,     0.99346,     0.99346,\n",
       "            0.99346,     0.99291,     0.99291,     0.99291,     0.99291,     0.99291,     0.99251,     0.99251,     0.99251,     0.99251,     0.99251,     0.99251,     0.99251,     0.99251,     0.99251,     0.99251,     0.99251,     0.99251,     0.99251,     0.99251,     0.99251,     0.99251,     0.99251,\n",
       "            0.99251,     0.99251,     0.99244,     0.99244,     0.99244,     0.99244,     0.99244,     0.99244,     0.99244,     0.99244,     0.99244,     0.99244,     0.99244,     0.99244,     0.99244,     0.99244,     0.99244,     0.99244,     0.99244,     0.99244,     0.99244,     0.99244,     0.99244,\n",
       "            0.99244,     0.99244,     0.99244,     0.99244,     0.99244,     0.99244,     0.99244,     0.99244,     0.99244,     0.99244,     0.99244,     0.99244,     0.99244,     0.99244,     0.99244,     0.99244,     0.99244,     0.99244,     0.99244,     0.99244,     0.99244,     0.99244,     0.99244,\n",
       "            0.99244,     0.99244,     0.99244,     0.99244,     0.99244,     0.99244,     0.99244,     0.99244,     0.99244,     0.99244,     0.99244,     0.99228,     0.99228,     0.99228,     0.99228,     0.99228,     0.99228,     0.99228,     0.99228,     0.99228,     0.99228,     0.99228,     0.99228,\n",
       "            0.99228,     0.99228,     0.99228,     0.99228,     0.99228,     0.99228,     0.99228,     0.99228,     0.99228,     0.99228,     0.99228,     0.99228,     0.99228,     0.99228,     0.99228,     0.99228,     0.99228,     0.99228,     0.99228,     0.99228,     0.99228,     0.99228,     0.99228,\n",
       "            0.99228,     0.99228,     0.99228,     0.99228,     0.99228,     0.99228,     0.99184,     0.99184,     0.99184,     0.99184,     0.99184,     0.99184,     0.99184,     0.99184,     0.99184,      0.9915,      0.9915,      0.9915,      0.9915,      0.9915,      0.9915,      0.9915,      0.9915,\n",
       "             0.9915,      0.9915,      0.9915,      0.9915,      0.9915,      0.9915,      0.9915,      0.9915,      0.9915,      0.9915,     0.99103,     0.99103,     0.99055,     0.99007,     0.99007,     0.98913,     0.98913,     0.98913,     0.98913,     0.98865,     0.98823,     0.98823,     0.98823,\n",
       "            0.98823,     0.98823,     0.98728,     0.98585,     0.98539,     0.98444,       0.984,       0.984,     0.98354,     0.98354,     0.98262,     0.98215,     0.98077,     0.97844,     0.97751,     0.97662,     0.97662,     0.97479,     0.97435,     0.97392,     0.97308,     0.97308,     0.97308,\n",
       "            0.96944,     0.96765,     0.96678,     0.96141,      0.9588,     0.95795,     0.95273,     0.95057,     0.94543,     0.94163,     0.91965,     0.90229,     0.90194,     0.88037,     0.80741,     0.78368,     0.76301,     0.74318,     0.71502,     0.61027,     0.55984,      0.4365,      0.3039,\n",
       "            0.27627,     0.24864,     0.22101,     0.19339,     0.16576,     0.13813,     0.11051,    0.082881,    0.055254,    0.027627,           0]]), 'Recall', 'Precision'], [array([          0,    0.001001,    0.002002,    0.003003,    0.004004,    0.005005,    0.006006,    0.007007,    0.008008,    0.009009,     0.01001,    0.011011,    0.012012,    0.013013,    0.014014,    0.015015,    0.016016,    0.017017,    0.018018,    0.019019,     0.02002,    0.021021,    0.022022,    0.023023,\n",
       "          0.024024,    0.025025,    0.026026,    0.027027,    0.028028,    0.029029,     0.03003,    0.031031,    0.032032,    0.033033,    0.034034,    0.035035,    0.036036,    0.037037,    0.038038,    0.039039,     0.04004,    0.041041,    0.042042,    0.043043,    0.044044,    0.045045,    0.046046,    0.047047,\n",
       "          0.048048,    0.049049,     0.05005,    0.051051,    0.052052,    0.053053,    0.054054,    0.055055,    0.056056,    0.057057,    0.058058,    0.059059,     0.06006,    0.061061,    0.062062,    0.063063,    0.064064,    0.065065,    0.066066,    0.067067,    0.068068,    0.069069,     0.07007,    0.071071,\n",
       "          0.072072,    0.073073,    0.074074,    0.075075,    0.076076,    0.077077,    0.078078,    0.079079,     0.08008,    0.081081,    0.082082,    0.083083,    0.084084,    0.085085,    0.086086,    0.087087,    0.088088,    0.089089,     0.09009,    0.091091,    0.092092,    0.093093,    0.094094,    0.095095,\n",
       "          0.096096,    0.097097,    0.098098,    0.099099,      0.1001,      0.1011,      0.1021,      0.1031,      0.1041,     0.10511,     0.10611,     0.10711,     0.10811,     0.10911,     0.11011,     0.11111,     0.11211,     0.11311,     0.11411,     0.11512,     0.11612,     0.11712,     0.11812,     0.11912,\n",
       "           0.12012,     0.12112,     0.12212,     0.12312,     0.12412,     0.12513,     0.12613,     0.12713,     0.12813,     0.12913,     0.13013,     0.13113,     0.13213,     0.13313,     0.13413,     0.13514,     0.13614,     0.13714,     0.13814,     0.13914,     0.14014,     0.14114,     0.14214,     0.14314,\n",
       "           0.14414,     0.14515,     0.14615,     0.14715,     0.14815,     0.14915,     0.15015,     0.15115,     0.15215,     0.15315,     0.15415,     0.15516,     0.15616,     0.15716,     0.15816,     0.15916,     0.16016,     0.16116,     0.16216,     0.16316,     0.16416,     0.16517,     0.16617,     0.16717,\n",
       "           0.16817,     0.16917,     0.17017,     0.17117,     0.17217,     0.17317,     0.17417,     0.17518,     0.17618,     0.17718,     0.17818,     0.17918,     0.18018,     0.18118,     0.18218,     0.18318,     0.18418,     0.18519,     0.18619,     0.18719,     0.18819,     0.18919,     0.19019,     0.19119,\n",
       "           0.19219,     0.19319,     0.19419,      0.1952,      0.1962,      0.1972,      0.1982,      0.1992,      0.2002,      0.2012,      0.2022,      0.2032,      0.2042,     0.20521,     0.20621,     0.20721,     0.20821,     0.20921,     0.21021,     0.21121,     0.21221,     0.21321,     0.21421,     0.21522,\n",
       "           0.21622,     0.21722,     0.21822,     0.21922,     0.22022,     0.22122,     0.22222,     0.22322,     0.22422,     0.22523,     0.22623,     0.22723,     0.22823,     0.22923,     0.23023,     0.23123,     0.23223,     0.23323,     0.23423,     0.23524,     0.23624,     0.23724,     0.23824,     0.23924,\n",
       "           0.24024,     0.24124,     0.24224,     0.24324,     0.24424,     0.24525,     0.24625,     0.24725,     0.24825,     0.24925,     0.25025,     0.25125,     0.25225,     0.25325,     0.25425,     0.25526,     0.25626,     0.25726,     0.25826,     0.25926,     0.26026,     0.26126,     0.26226,     0.26326,\n",
       "           0.26426,     0.26527,     0.26627,     0.26727,     0.26827,     0.26927,     0.27027,     0.27127,     0.27227,     0.27327,     0.27427,     0.27528,     0.27628,     0.27728,     0.27828,     0.27928,     0.28028,     0.28128,     0.28228,     0.28328,     0.28428,     0.28529,     0.28629,     0.28729,\n",
       "           0.28829,     0.28929,     0.29029,     0.29129,     0.29229,     0.29329,     0.29429,      0.2953,      0.2963,      0.2973,      0.2983,      0.2993,      0.3003,      0.3013,      0.3023,      0.3033,      0.3043,     0.30531,     0.30631,     0.30731,     0.30831,     0.30931,     0.31031,     0.31131,\n",
       "           0.31231,     0.31331,     0.31431,     0.31532,     0.31632,     0.31732,     0.31832,     0.31932,     0.32032,     0.32132,     0.32232,     0.32332,     0.32432,     0.32533,     0.32633,     0.32733,     0.32833,     0.32933,     0.33033,     0.33133,     0.33233,     0.33333,     0.33433,     0.33534,\n",
       "           0.33634,     0.33734,     0.33834,     0.33934,     0.34034,     0.34134,     0.34234,     0.34334,     0.34434,     0.34535,     0.34635,     0.34735,     0.34835,     0.34935,     0.35035,     0.35135,     0.35235,     0.35335,     0.35435,     0.35536,     0.35636,     0.35736,     0.35836,     0.35936,\n",
       "           0.36036,     0.36136,     0.36236,     0.36336,     0.36436,     0.36537,     0.36637,     0.36737,     0.36837,     0.36937,     0.37037,     0.37137,     0.37237,     0.37337,     0.37437,     0.37538,     0.37638,     0.37738,     0.37838,     0.37938,     0.38038,     0.38138,     0.38238,     0.38338,\n",
       "           0.38438,     0.38539,     0.38639,     0.38739,     0.38839,     0.38939,     0.39039,     0.39139,     0.39239,     0.39339,     0.39439,      0.3954,      0.3964,      0.3974,      0.3984,      0.3994,      0.4004,      0.4014,      0.4024,      0.4034,      0.4044,     0.40541,     0.40641,     0.40741,\n",
       "           0.40841,     0.40941,     0.41041,     0.41141,     0.41241,     0.41341,     0.41441,     0.41542,     0.41642,     0.41742,     0.41842,     0.41942,     0.42042,     0.42142,     0.42242,     0.42342,     0.42442,     0.42543,     0.42643,     0.42743,     0.42843,     0.42943,     0.43043,     0.43143,\n",
       "           0.43243,     0.43343,     0.43443,     0.43544,     0.43644,     0.43744,     0.43844,     0.43944,     0.44044,     0.44144,     0.44244,     0.44344,     0.44444,     0.44545,     0.44645,     0.44745,     0.44845,     0.44945,     0.45045,     0.45145,     0.45245,     0.45345,     0.45445,     0.45546,\n",
       "           0.45646,     0.45746,     0.45846,     0.45946,     0.46046,     0.46146,     0.46246,     0.46346,     0.46446,     0.46547,     0.46647,     0.46747,     0.46847,     0.46947,     0.47047,     0.47147,     0.47247,     0.47347,     0.47447,     0.47548,     0.47648,     0.47748,     0.47848,     0.47948,\n",
       "           0.48048,     0.48148,     0.48248,     0.48348,     0.48448,     0.48549,     0.48649,     0.48749,     0.48849,     0.48949,     0.49049,     0.49149,     0.49249,     0.49349,     0.49449,      0.4955,      0.4965,      0.4975,      0.4985,      0.4995,      0.5005,      0.5015,      0.5025,      0.5035,\n",
       "            0.5045,     0.50551,     0.50651,     0.50751,     0.50851,     0.50951,     0.51051,     0.51151,     0.51251,     0.51351,     0.51451,     0.51552,     0.51652,     0.51752,     0.51852,     0.51952,     0.52052,     0.52152,     0.52252,     0.52352,     0.52452,     0.52553,     0.52653,     0.52753,\n",
       "           0.52853,     0.52953,     0.53053,     0.53153,     0.53253,     0.53353,     0.53453,     0.53554,     0.53654,     0.53754,     0.53854,     0.53954,     0.54054,     0.54154,     0.54254,     0.54354,     0.54454,     0.54555,     0.54655,     0.54755,     0.54855,     0.54955,     0.55055,     0.55155,\n",
       "           0.55255,     0.55355,     0.55455,     0.55556,     0.55656,     0.55756,     0.55856,     0.55956,     0.56056,     0.56156,     0.56256,     0.56356,     0.56456,     0.56557,     0.56657,     0.56757,     0.56857,     0.56957,     0.57057,     0.57157,     0.57257,     0.57357,     0.57457,     0.57558,\n",
       "           0.57658,     0.57758,     0.57858,     0.57958,     0.58058,     0.58158,     0.58258,     0.58358,     0.58458,     0.58559,     0.58659,     0.58759,     0.58859,     0.58959,     0.59059,     0.59159,     0.59259,     0.59359,     0.59459,      0.5956,      0.5966,      0.5976,      0.5986,      0.5996,\n",
       "            0.6006,      0.6016,      0.6026,      0.6036,      0.6046,     0.60561,     0.60661,     0.60761,     0.60861,     0.60961,     0.61061,     0.61161,     0.61261,     0.61361,     0.61461,     0.61562,     0.61662,     0.61762,     0.61862,     0.61962,     0.62062,     0.62162,     0.62262,     0.62362,\n",
       "           0.62462,     0.62563,     0.62663,     0.62763,     0.62863,     0.62963,     0.63063,     0.63163,     0.63263,     0.63363,     0.63463,     0.63564,     0.63664,     0.63764,     0.63864,     0.63964,     0.64064,     0.64164,     0.64264,     0.64364,     0.64464,     0.64565,     0.64665,     0.64765,\n",
       "           0.64865,     0.64965,     0.65065,     0.65165,     0.65265,     0.65365,     0.65465,     0.65566,     0.65666,     0.65766,     0.65866,     0.65966,     0.66066,     0.66166,     0.66266,     0.66366,     0.66466,     0.66567,     0.66667,     0.66767,     0.66867,     0.66967,     0.67067,     0.67167,\n",
       "           0.67267,     0.67367,     0.67467,     0.67568,     0.67668,     0.67768,     0.67868,     0.67968,     0.68068,     0.68168,     0.68268,     0.68368,     0.68468,     0.68569,     0.68669,     0.68769,     0.68869,     0.68969,     0.69069,     0.69169,     0.69269,     0.69369,     0.69469,      0.6957,\n",
       "            0.6967,      0.6977,      0.6987,      0.6997,      0.7007,      0.7017,      0.7027,      0.7037,      0.7047,     0.70571,     0.70671,     0.70771,     0.70871,     0.70971,     0.71071,     0.71171,     0.71271,     0.71371,     0.71471,     0.71572,     0.71672,     0.71772,     0.71872,     0.71972,\n",
       "           0.72072,     0.72172,     0.72272,     0.72372,     0.72472,     0.72573,     0.72673,     0.72773,     0.72873,     0.72973,     0.73073,     0.73173,     0.73273,     0.73373,     0.73473,     0.73574,     0.73674,     0.73774,     0.73874,     0.73974,     0.74074,     0.74174,     0.74274,     0.74374,\n",
       "           0.74474,     0.74575,     0.74675,     0.74775,     0.74875,     0.74975,     0.75075,     0.75175,     0.75275,     0.75375,     0.75475,     0.75576,     0.75676,     0.75776,     0.75876,     0.75976,     0.76076,     0.76176,     0.76276,     0.76376,     0.76476,     0.76577,     0.76677,     0.76777,\n",
       "           0.76877,     0.76977,     0.77077,     0.77177,     0.77277,     0.77377,     0.77477,     0.77578,     0.77678,     0.77778,     0.77878,     0.77978,     0.78078,     0.78178,     0.78278,     0.78378,     0.78478,     0.78579,     0.78679,     0.78779,     0.78879,     0.78979,     0.79079,     0.79179,\n",
       "           0.79279,     0.79379,     0.79479,      0.7958,      0.7968,      0.7978,      0.7988,      0.7998,      0.8008,      0.8018,      0.8028,      0.8038,      0.8048,     0.80581,     0.80681,     0.80781,     0.80881,     0.80981,     0.81081,     0.81181,     0.81281,     0.81381,     0.81481,     0.81582,\n",
       "           0.81682,     0.81782,     0.81882,     0.81982,     0.82082,     0.82182,     0.82282,     0.82382,     0.82482,     0.82583,     0.82683,     0.82783,     0.82883,     0.82983,     0.83083,     0.83183,     0.83283,     0.83383,     0.83483,     0.83584,     0.83684,     0.83784,     0.83884,     0.83984,\n",
       "           0.84084,     0.84184,     0.84284,     0.84384,     0.84484,     0.84585,     0.84685,     0.84785,     0.84885,     0.84985,     0.85085,     0.85185,     0.85285,     0.85385,     0.85485,     0.85586,     0.85686,     0.85786,     0.85886,     0.85986,     0.86086,     0.86186,     0.86286,     0.86386,\n",
       "           0.86486,     0.86587,     0.86687,     0.86787,     0.86887,     0.86987,     0.87087,     0.87187,     0.87287,     0.87387,     0.87487,     0.87588,     0.87688,     0.87788,     0.87888,     0.87988,     0.88088,     0.88188,     0.88288,     0.88388,     0.88488,     0.88589,     0.88689,     0.88789,\n",
       "           0.88889,     0.88989,     0.89089,     0.89189,     0.89289,     0.89389,     0.89489,      0.8959,      0.8969,      0.8979,      0.8989,      0.8999,      0.9009,      0.9019,      0.9029,      0.9039,      0.9049,     0.90591,     0.90691,     0.90791,     0.90891,     0.90991,     0.91091,     0.91191,\n",
       "           0.91291,     0.91391,     0.91491,     0.91592,     0.91692,     0.91792,     0.91892,     0.91992,     0.92092,     0.92192,     0.92292,     0.92392,     0.92492,     0.92593,     0.92693,     0.92793,     0.92893,     0.92993,     0.93093,     0.93193,     0.93293,     0.93393,     0.93493,     0.93594,\n",
       "           0.93694,     0.93794,     0.93894,     0.93994,     0.94094,     0.94194,     0.94294,     0.94394,     0.94494,     0.94595,     0.94695,     0.94795,     0.94895,     0.94995,     0.95095,     0.95195,     0.95295,     0.95395,     0.95495,     0.95596,     0.95696,     0.95796,     0.95896,     0.95996,\n",
       "           0.96096,     0.96196,     0.96296,     0.96396,     0.96496,     0.96597,     0.96697,     0.96797,     0.96897,     0.96997,     0.97097,     0.97197,     0.97297,     0.97397,     0.97497,     0.97598,     0.97698,     0.97798,     0.97898,     0.97998,     0.98098,     0.98198,     0.98298,     0.98398,\n",
       "           0.98498,     0.98599,     0.98699,     0.98799,     0.98899,     0.98999,     0.99099,     0.99199,     0.99299,     0.99399,     0.99499,       0.996,       0.997,       0.998,       0.999,           1]), array([[     0.4728,      0.4728,      0.5946,      0.6609,     0.70542,     0.73377,     0.75477,     0.77056,     0.78544,     0.79519,     0.80831,     0.81692,      0.8229,     0.83109,     0.83788,     0.84291,     0.84822,     0.85178,     0.85507,     0.85971,     0.86342,     0.86703,     0.87012,\n",
       "            0.87271,     0.87508,     0.87887,     0.88044,     0.88412,     0.88663,     0.88837,     0.89005,     0.89227,     0.89438,     0.89639,      0.8992,     0.90061,     0.90174,     0.90303,     0.90402,     0.90545,     0.90748,     0.90945,     0.91085,     0.91273,     0.91455,     0.91512,\n",
       "            0.91632,     0.91709,     0.91788,     0.91913,     0.92018,     0.92147,     0.92269,     0.92364,     0.92486,     0.92569,     0.92648,     0.92706,     0.92758,     0.92748,       0.928,     0.92873,     0.92985,     0.93093,      0.9316,     0.93195,     0.93258,       0.933,     0.93461,\n",
       "            0.93517,     0.93558,     0.93599,     0.93617,     0.93659,     0.93746,     0.93796,      0.9383,     0.93874,     0.93879,     0.93858,     0.93885,     0.93993,     0.94025,     0.94072,     0.94117,     0.94176,     0.94185,     0.94193,     0.94234,     0.94252,     0.94294,     0.94372,\n",
       "            0.94409,     0.94435,     0.94485,      0.9451,     0.94531,     0.94568,     0.94601,     0.94632,     0.94677,     0.94687,     0.94703,     0.94718,     0.94737,     0.94729,      0.9473,     0.94767,     0.94796,     0.94855,     0.94874,     0.94882,      0.9489,     0.94914,     0.94951,\n",
       "             0.9497,     0.94997,     0.94988,      0.9503,     0.95091,       0.951,     0.95108,     0.95125,     0.95139,     0.95152,     0.95197,     0.95222,      0.9527,     0.95328,     0.95334,      0.9534,     0.95347,     0.95356,     0.95368,      0.9538,     0.95392,     0.95416,     0.95438,\n",
       "            0.95454,     0.95486,     0.95508,     0.95541,       0.956,     0.95632,     0.95649,     0.95664,     0.95679,       0.957,     0.95707,     0.95713,      0.9572,     0.95728,     0.95736,     0.95745,     0.95752,     0.95759,     0.95767,     0.95796,      0.9581,     0.95819,     0.95827,\n",
       "            0.95847,      0.9585,     0.95845,      0.9584,     0.95835,      0.9583,     0.95825,     0.95819,     0.95814,     0.95808,     0.95819,     0.95833,     0.95841,     0.95849,     0.95921,      0.9594,      0.9596,     0.95966,     0.95972,     0.95977,     0.95983,     0.95995,     0.95998,\n",
       "            0.95989,     0.96002,     0.96042,     0.96052,     0.96057,     0.96062,     0.96068,     0.96073,     0.96079,     0.96086,     0.96092,     0.96124,     0.96124,     0.96128,     0.96159,     0.96177,     0.96195,     0.96222,     0.96217,     0.96213,     0.96209,     0.96205,     0.96201,\n",
       "            0.96246,      0.9625,     0.96254,     0.96257,     0.96261,     0.96265,     0.96271,      0.9628,     0.96288,     0.96292,     0.96295,     0.96298,     0.96301,     0.96304,     0.96307,      0.9631,     0.96293,     0.96278,     0.96266,     0.96331,     0.96333,     0.96336,     0.96338,\n",
       "             0.9634,     0.96343,     0.96345,     0.96347,     0.96349,     0.96352,      0.9638,     0.96391,     0.96417,     0.96406,     0.96401,     0.96443,     0.96448,     0.96452,     0.96456,     0.96461,     0.96476,     0.96489,     0.96493,     0.96498,     0.96502,     0.96506,     0.96505,\n",
       "            0.96498,     0.96492,     0.96485,     0.96506,     0.96502,     0.96498,     0.96494,      0.9649,     0.96486,     0.96483,     0.96499,     0.96503,       0.965,     0.96496,     0.96492,     0.96489,     0.96485,     0.96482,     0.96479,     0.96477,     0.96475,     0.96473,     0.96471,\n",
       "            0.96468,     0.96466,     0.96464,     0.96462,      0.9646,     0.96457,     0.96469,     0.96484,     0.96497,     0.96521,     0.96531,     0.96538,     0.96545,     0.96549,     0.96552,     0.96554,     0.96557,      0.9656,     0.96563,     0.96566,     0.96568,     0.96566,     0.96561,\n",
       "            0.96556,     0.96551,     0.96546,     0.96548,     0.96551,     0.96554,     0.96557,      0.9656,     0.96563,     0.96566,     0.96565,      0.9655,     0.96547,     0.96554,     0.96562,     0.96568,     0.96572,     0.96577,     0.96581,     0.96585,      0.9659,     0.96597,     0.96604,\n",
       "             0.9661,      0.9663,     0.96642,     0.96651,     0.96688,       0.967,     0.96697,     0.96694,     0.96691,     0.96688,     0.96684,     0.96681,     0.96678,     0.96688,     0.96699,     0.96729,     0.96736,     0.96742,     0.96752,     0.96765,      0.9677,     0.96772,     0.96774,\n",
       "            0.96776,     0.96778,      0.9678,     0.96782,     0.96785,     0.96787,     0.96789,     0.96791,     0.96788,     0.96785,     0.96782,      0.9678,     0.96777,     0.96774,     0.96771,     0.96769,     0.96766,     0.96764,     0.96762,     0.96759,     0.96757,     0.96755,     0.96753,\n",
       "            0.96751,     0.96748,     0.96746,     0.96744,     0.96744,     0.96751,     0.96757,     0.96763,     0.96774,     0.96787,     0.96784,     0.96779,     0.96775,     0.96771,     0.96767,     0.96765,     0.96769,     0.96773,     0.96777,     0.96781,     0.96785,     0.96776,     0.96785,\n",
       "            0.96793,       0.968,     0.96808,     0.96814,      0.9682,     0.96827,     0.96808,     0.96812,     0.96816,      0.9682,     0.96824,     0.96828,     0.96835,     0.96843,     0.96851,     0.96856,     0.96861,     0.96866,     0.96871,     0.96876,      0.9688,     0.96885,      0.9689,\n",
       "            0.96895,     0.96912,     0.96914,     0.96906,     0.96898,     0.96904,     0.96916,     0.96927,     0.96939,     0.96959,     0.96952,     0.96945,     0.96939,     0.96935,     0.96931,     0.96927,     0.96923,     0.96918,     0.96912,     0.96899,     0.96886,     0.96872,     0.96859,\n",
       "            0.96846,     0.96844,     0.96847,     0.96849,     0.96851,     0.96854,     0.96856,     0.96858,     0.96861,     0.96863,     0.96865,      0.9686,     0.96853,     0.96847,     0.96841,     0.96848,     0.96854,      0.9686,     0.96862,     0.96855,     0.96849,     0.96843,     0.96837,\n",
       "             0.9683,     0.96824,     0.96818,     0.96793,     0.96796,     0.96798,     0.96801,     0.96804,     0.96807,      0.9681,     0.96813,     0.96813,     0.96811,      0.9681,     0.96809,     0.96808,     0.96806,     0.96805,     0.96804,     0.96802,     0.96801,       0.968,     0.96798,\n",
       "            0.96797,     0.96796,     0.96794,     0.96793,     0.96792,      0.9679,     0.96788,     0.96783,     0.96778,     0.96773,     0.96768,     0.96769,     0.96781,     0.96768,      0.9678,     0.96787,     0.96789,     0.96792,     0.96794,     0.96796,     0.96798,       0.968,     0.96802,\n",
       "            0.96804,     0.96807,     0.96809,     0.96807,     0.96804,     0.96802,     0.96799,     0.96796,     0.96793,     0.96791,     0.96788,     0.96785,     0.96788,     0.96791,     0.96793,     0.96796,     0.96799,     0.96802,     0.96805,      0.9683,     0.96826,     0.96822,     0.96818,\n",
       "            0.96813,     0.96809,     0.96805,     0.96801,     0.96797,     0.96793,     0.96788,     0.96784,      0.9676,     0.96766,     0.96772,     0.96778,     0.96774,     0.96761,     0.96763,     0.96774,     0.96774,     0.96765,     0.96757,      0.9676,     0.96768,     0.96775,     0.96786,\n",
       "            0.96798,      0.9679,     0.96777,     0.96754,      0.9676,     0.96769,     0.96785,     0.96808,     0.96823,     0.96829,     0.96835,     0.96841,     0.96847,     0.96853,     0.96858,     0.96864,     0.96864,     0.96861,     0.96858,     0.96854,     0.96851,     0.96848,     0.96845,\n",
       "            0.96842,     0.96806,     0.96793,     0.96804,     0.96815,     0.96827,     0.96838,     0.96831,     0.96824,     0.96817,     0.96818,     0.96824,      0.9683,     0.96835,     0.96819,     0.96818,     0.96826,     0.96834,     0.96808,     0.96805,     0.96802,     0.96798,     0.96795,\n",
       "            0.96792,     0.96788,     0.96768,      0.9678,     0.96807,     0.96804,     0.96801,     0.96799,     0.96796,     0.96793,     0.96791,     0.96788,     0.96785,     0.96782,     0.96778,     0.96773,     0.96768,     0.96764,     0.96759,     0.96747,     0.96735,     0.96745,     0.96708,\n",
       "            0.96702,     0.96695,     0.96689,     0.96659,     0.96666,     0.96673,      0.9668,     0.96654,     0.96649,     0.96645,      0.9664,     0.96636,     0.96657,     0.96663,     0.96669,     0.96675,     0.96671,     0.96654,     0.96642,     0.96652,     0.96647,     0.96641,     0.96635,\n",
       "             0.9663,     0.96622,     0.96614,     0.96605,     0.96591,      0.9658,     0.96585,     0.96591,     0.96597,     0.96617,     0.96631,     0.96639,     0.96647,     0.96607,     0.96603,     0.96615,     0.96619,     0.96616,     0.96612,     0.96608,     0.96605,     0.96601,     0.96598,\n",
       "            0.96604,     0.96616,     0.96558,     0.96467,     0.96455,     0.96444,     0.96439,     0.96434,     0.96429,     0.96424,      0.9641,     0.96391,     0.96381,     0.96369,     0.96356,     0.96343,     0.96324,     0.96313,     0.96306,     0.96299,     0.96267,     0.96263,      0.9626,\n",
       "            0.96256,     0.96252,     0.96249,     0.96245,     0.96187,      0.9617,     0.96156,     0.96143,      0.9617,      0.9618,     0.96139,     0.96126,     0.96136,     0.96119,     0.96101,     0.96008,     0.95995,     0.95954,     0.95937,     0.95888,     0.95727,     0.95714,     0.95624,\n",
       "            0.95606,     0.95589,     0.95441,     0.95379,     0.95368,     0.95361,     0.95353,     0.95213,     0.95067,     0.95039,     0.95025,     0.94999,     0.94875,     0.94775,      0.9474,     0.94582,     0.94414,     0.94397,     0.94268,     0.94048,      0.9403,     0.93859,     0.93846,\n",
       "            0.93644,     0.93468,      0.9345,     0.93352,     0.93148,     0.93077,     0.93059,     0.92961,     0.92727,     0.92696,      0.9245,     0.92269,     0.92251,      0.9212,     0.91884,     0.91866,     0.91629,      0.9139,     0.91372,     0.91188,     0.90892,     0.90873,     0.90771,\n",
       "            0.90696,     0.90314,     0.90295,     0.90079,      0.8989,     0.89664,     0.89644,     0.89397,     0.89235,     0.89215,     0.89044,     0.88855,     0.88835,     0.88729,     0.88677,     0.88564,     0.88545,     0.88293,     0.88098,     0.88078,     0.87931,     0.87888,     0.87797,\n",
       "            0.87747,     0.87727,     0.87672,     0.87589,     0.87474,     0.87453,     0.87426,     0.87403,     0.87324,     0.87304,     0.87156,     0.87068,     0.86899,     0.86878,     0.86671,     0.86588,     0.86465,     0.86349,     0.85995,     0.85896,     0.85875,     0.85666,     0.85418,\n",
       "             0.8515,     0.84749,     0.84727,      0.8441,     0.84104,     0.83764,     0.83224,     0.83181,     0.82781,     0.82175,     0.81561,     0.81165,      0.8036,     0.80337,     0.79458,     0.77311,     0.77287,     0.76118,     0.75103,     0.73966,     0.72705,     0.71277,     0.70151,\n",
       "            0.70062,     0.68931,     0.67432,     0.65709,      0.6431,     0.62863,     0.61091,     0.60041,     0.58648,     0.57329,     0.57297,     0.56141,      0.5422,     0.53418,     0.52197,     0.51008,     0.50432,     0.49323,     0.49287,     0.48343,     0.47621,     0.46633,     0.46133,\n",
       "            0.45463,     0.45181,     0.44841,     0.44216,     0.43764,      0.4347,     0.43354,     0.43006,     0.42541,     0.41837,     0.41364,      0.4104,     0.40527,     0.40225,     0.39721,     0.39296,       0.384,     0.36663,     0.35351,     0.34068,     0.32699,      0.3142,     0.30062,\n",
       "            0.28082,     0.25903,     0.21109,     0.19441,     0.17392,     0.15969,     0.12734,     0.11819,     0.11112,     0.10557,    0.098023,    0.094477,    0.091022,    0.086436,    0.084074,    0.081445,    0.077745,    0.077202,    0.076757,    0.073583,    0.072555,     0.06902,     0.06672,\n",
       "           0.063671,    0.063008,     0.06138,    0.060476,    0.059861,    0.059499,    0.058999,    0.056445,     0.05584,    0.055234,    0.054394,    0.050759,    0.048963,    0.048052,    0.047353,    0.046436,    0.045622,    0.045009,    0.044128,    0.043484,    0.042938,    0.042477,    0.040445,\n",
       "           0.036819,    0.036201,    0.035004,    0.034739,    0.034474,    0.034208,    0.031237,    0.030124,    0.028916,    0.026798,    0.026628,    0.026458,    0.026288,    0.026117,    0.025947,    0.025378,    0.024237,    0.023749,    0.023373,    0.022723,    0.021943,    0.021257,    0.019357,\n",
       "           0.019087,    0.018818,    0.017529,    0.016424,    0.013605,     0.01145,   0.0083302,   0.0080122,   0.0076942,   0.0068734,   0.0040278,   0.0026468,    0.002455,   0.0022631,   0.0020712,   0.0018793,           0,           0,           0,           0,           0,           0,           0,\n",
       "                  0,           0,           0,           0,           0,           0,           0,           0,           0,           0,           0,           0,           0,           0,           0,           0,           0,           0,           0,           0,           0,           0,           0,\n",
       "                  0,           0,           0,           0,           0,           0,           0,           0,           0,           0,           0]]), 'Confidence', 'F1'], [array([          0,    0.001001,    0.002002,    0.003003,    0.004004,    0.005005,    0.006006,    0.007007,    0.008008,    0.009009,     0.01001,    0.011011,    0.012012,    0.013013,    0.014014,    0.015015,    0.016016,    0.017017,    0.018018,    0.019019,     0.02002,    0.021021,    0.022022,    0.023023,\n",
       "          0.024024,    0.025025,    0.026026,    0.027027,    0.028028,    0.029029,     0.03003,    0.031031,    0.032032,    0.033033,    0.034034,    0.035035,    0.036036,    0.037037,    0.038038,    0.039039,     0.04004,    0.041041,    0.042042,    0.043043,    0.044044,    0.045045,    0.046046,    0.047047,\n",
       "          0.048048,    0.049049,     0.05005,    0.051051,    0.052052,    0.053053,    0.054054,    0.055055,    0.056056,    0.057057,    0.058058,    0.059059,     0.06006,    0.061061,    0.062062,    0.063063,    0.064064,    0.065065,    0.066066,    0.067067,    0.068068,    0.069069,     0.07007,    0.071071,\n",
       "          0.072072,    0.073073,    0.074074,    0.075075,    0.076076,    0.077077,    0.078078,    0.079079,     0.08008,    0.081081,    0.082082,    0.083083,    0.084084,    0.085085,    0.086086,    0.087087,    0.088088,    0.089089,     0.09009,    0.091091,    0.092092,    0.093093,    0.094094,    0.095095,\n",
       "          0.096096,    0.097097,    0.098098,    0.099099,      0.1001,      0.1011,      0.1021,      0.1031,      0.1041,     0.10511,     0.10611,     0.10711,     0.10811,     0.10911,     0.11011,     0.11111,     0.11211,     0.11311,     0.11411,     0.11512,     0.11612,     0.11712,     0.11812,     0.11912,\n",
       "           0.12012,     0.12112,     0.12212,     0.12312,     0.12412,     0.12513,     0.12613,     0.12713,     0.12813,     0.12913,     0.13013,     0.13113,     0.13213,     0.13313,     0.13413,     0.13514,     0.13614,     0.13714,     0.13814,     0.13914,     0.14014,     0.14114,     0.14214,     0.14314,\n",
       "           0.14414,     0.14515,     0.14615,     0.14715,     0.14815,     0.14915,     0.15015,     0.15115,     0.15215,     0.15315,     0.15415,     0.15516,     0.15616,     0.15716,     0.15816,     0.15916,     0.16016,     0.16116,     0.16216,     0.16316,     0.16416,     0.16517,     0.16617,     0.16717,\n",
       "           0.16817,     0.16917,     0.17017,     0.17117,     0.17217,     0.17317,     0.17417,     0.17518,     0.17618,     0.17718,     0.17818,     0.17918,     0.18018,     0.18118,     0.18218,     0.18318,     0.18418,     0.18519,     0.18619,     0.18719,     0.18819,     0.18919,     0.19019,     0.19119,\n",
       "           0.19219,     0.19319,     0.19419,      0.1952,      0.1962,      0.1972,      0.1982,      0.1992,      0.2002,      0.2012,      0.2022,      0.2032,      0.2042,     0.20521,     0.20621,     0.20721,     0.20821,     0.20921,     0.21021,     0.21121,     0.21221,     0.21321,     0.21421,     0.21522,\n",
       "           0.21622,     0.21722,     0.21822,     0.21922,     0.22022,     0.22122,     0.22222,     0.22322,     0.22422,     0.22523,     0.22623,     0.22723,     0.22823,     0.22923,     0.23023,     0.23123,     0.23223,     0.23323,     0.23423,     0.23524,     0.23624,     0.23724,     0.23824,     0.23924,\n",
       "           0.24024,     0.24124,     0.24224,     0.24324,     0.24424,     0.24525,     0.24625,     0.24725,     0.24825,     0.24925,     0.25025,     0.25125,     0.25225,     0.25325,     0.25425,     0.25526,     0.25626,     0.25726,     0.25826,     0.25926,     0.26026,     0.26126,     0.26226,     0.26326,\n",
       "           0.26426,     0.26527,     0.26627,     0.26727,     0.26827,     0.26927,     0.27027,     0.27127,     0.27227,     0.27327,     0.27427,     0.27528,     0.27628,     0.27728,     0.27828,     0.27928,     0.28028,     0.28128,     0.28228,     0.28328,     0.28428,     0.28529,     0.28629,     0.28729,\n",
       "           0.28829,     0.28929,     0.29029,     0.29129,     0.29229,     0.29329,     0.29429,      0.2953,      0.2963,      0.2973,      0.2983,      0.2993,      0.3003,      0.3013,      0.3023,      0.3033,      0.3043,     0.30531,     0.30631,     0.30731,     0.30831,     0.30931,     0.31031,     0.31131,\n",
       "           0.31231,     0.31331,     0.31431,     0.31532,     0.31632,     0.31732,     0.31832,     0.31932,     0.32032,     0.32132,     0.32232,     0.32332,     0.32432,     0.32533,     0.32633,     0.32733,     0.32833,     0.32933,     0.33033,     0.33133,     0.33233,     0.33333,     0.33433,     0.33534,\n",
       "           0.33634,     0.33734,     0.33834,     0.33934,     0.34034,     0.34134,     0.34234,     0.34334,     0.34434,     0.34535,     0.34635,     0.34735,     0.34835,     0.34935,     0.35035,     0.35135,     0.35235,     0.35335,     0.35435,     0.35536,     0.35636,     0.35736,     0.35836,     0.35936,\n",
       "           0.36036,     0.36136,     0.36236,     0.36336,     0.36436,     0.36537,     0.36637,     0.36737,     0.36837,     0.36937,     0.37037,     0.37137,     0.37237,     0.37337,     0.37437,     0.37538,     0.37638,     0.37738,     0.37838,     0.37938,     0.38038,     0.38138,     0.38238,     0.38338,\n",
       "           0.38438,     0.38539,     0.38639,     0.38739,     0.38839,     0.38939,     0.39039,     0.39139,     0.39239,     0.39339,     0.39439,      0.3954,      0.3964,      0.3974,      0.3984,      0.3994,      0.4004,      0.4014,      0.4024,      0.4034,      0.4044,     0.40541,     0.40641,     0.40741,\n",
       "           0.40841,     0.40941,     0.41041,     0.41141,     0.41241,     0.41341,     0.41441,     0.41542,     0.41642,     0.41742,     0.41842,     0.41942,     0.42042,     0.42142,     0.42242,     0.42342,     0.42442,     0.42543,     0.42643,     0.42743,     0.42843,     0.42943,     0.43043,     0.43143,\n",
       "           0.43243,     0.43343,     0.43443,     0.43544,     0.43644,     0.43744,     0.43844,     0.43944,     0.44044,     0.44144,     0.44244,     0.44344,     0.44444,     0.44545,     0.44645,     0.44745,     0.44845,     0.44945,     0.45045,     0.45145,     0.45245,     0.45345,     0.45445,     0.45546,\n",
       "           0.45646,     0.45746,     0.45846,     0.45946,     0.46046,     0.46146,     0.46246,     0.46346,     0.46446,     0.46547,     0.46647,     0.46747,     0.46847,     0.46947,     0.47047,     0.47147,     0.47247,     0.47347,     0.47447,     0.47548,     0.47648,     0.47748,     0.47848,     0.47948,\n",
       "           0.48048,     0.48148,     0.48248,     0.48348,     0.48448,     0.48549,     0.48649,     0.48749,     0.48849,     0.48949,     0.49049,     0.49149,     0.49249,     0.49349,     0.49449,      0.4955,      0.4965,      0.4975,      0.4985,      0.4995,      0.5005,      0.5015,      0.5025,      0.5035,\n",
       "            0.5045,     0.50551,     0.50651,     0.50751,     0.50851,     0.50951,     0.51051,     0.51151,     0.51251,     0.51351,     0.51451,     0.51552,     0.51652,     0.51752,     0.51852,     0.51952,     0.52052,     0.52152,     0.52252,     0.52352,     0.52452,     0.52553,     0.52653,     0.52753,\n",
       "           0.52853,     0.52953,     0.53053,     0.53153,     0.53253,     0.53353,     0.53453,     0.53554,     0.53654,     0.53754,     0.53854,     0.53954,     0.54054,     0.54154,     0.54254,     0.54354,     0.54454,     0.54555,     0.54655,     0.54755,     0.54855,     0.54955,     0.55055,     0.55155,\n",
       "           0.55255,     0.55355,     0.55455,     0.55556,     0.55656,     0.55756,     0.55856,     0.55956,     0.56056,     0.56156,     0.56256,     0.56356,     0.56456,     0.56557,     0.56657,     0.56757,     0.56857,     0.56957,     0.57057,     0.57157,     0.57257,     0.57357,     0.57457,     0.57558,\n",
       "           0.57658,     0.57758,     0.57858,     0.57958,     0.58058,     0.58158,     0.58258,     0.58358,     0.58458,     0.58559,     0.58659,     0.58759,     0.58859,     0.58959,     0.59059,     0.59159,     0.59259,     0.59359,     0.59459,      0.5956,      0.5966,      0.5976,      0.5986,      0.5996,\n",
       "            0.6006,      0.6016,      0.6026,      0.6036,      0.6046,     0.60561,     0.60661,     0.60761,     0.60861,     0.60961,     0.61061,     0.61161,     0.61261,     0.61361,     0.61461,     0.61562,     0.61662,     0.61762,     0.61862,     0.61962,     0.62062,     0.62162,     0.62262,     0.62362,\n",
       "           0.62462,     0.62563,     0.62663,     0.62763,     0.62863,     0.62963,     0.63063,     0.63163,     0.63263,     0.63363,     0.63463,     0.63564,     0.63664,     0.63764,     0.63864,     0.63964,     0.64064,     0.64164,     0.64264,     0.64364,     0.64464,     0.64565,     0.64665,     0.64765,\n",
       "           0.64865,     0.64965,     0.65065,     0.65165,     0.65265,     0.65365,     0.65465,     0.65566,     0.65666,     0.65766,     0.65866,     0.65966,     0.66066,     0.66166,     0.66266,     0.66366,     0.66466,     0.66567,     0.66667,     0.66767,     0.66867,     0.66967,     0.67067,     0.67167,\n",
       "           0.67267,     0.67367,     0.67467,     0.67568,     0.67668,     0.67768,     0.67868,     0.67968,     0.68068,     0.68168,     0.68268,     0.68368,     0.68468,     0.68569,     0.68669,     0.68769,     0.68869,     0.68969,     0.69069,     0.69169,     0.69269,     0.69369,     0.69469,      0.6957,\n",
       "            0.6967,      0.6977,      0.6987,      0.6997,      0.7007,      0.7017,      0.7027,      0.7037,      0.7047,     0.70571,     0.70671,     0.70771,     0.70871,     0.70971,     0.71071,     0.71171,     0.71271,     0.71371,     0.71471,     0.71572,     0.71672,     0.71772,     0.71872,     0.71972,\n",
       "           0.72072,     0.72172,     0.72272,     0.72372,     0.72472,     0.72573,     0.72673,     0.72773,     0.72873,     0.72973,     0.73073,     0.73173,     0.73273,     0.73373,     0.73473,     0.73574,     0.73674,     0.73774,     0.73874,     0.73974,     0.74074,     0.74174,     0.74274,     0.74374,\n",
       "           0.74474,     0.74575,     0.74675,     0.74775,     0.74875,     0.74975,     0.75075,     0.75175,     0.75275,     0.75375,     0.75475,     0.75576,     0.75676,     0.75776,     0.75876,     0.75976,     0.76076,     0.76176,     0.76276,     0.76376,     0.76476,     0.76577,     0.76677,     0.76777,\n",
       "           0.76877,     0.76977,     0.77077,     0.77177,     0.77277,     0.77377,     0.77477,     0.77578,     0.77678,     0.77778,     0.77878,     0.77978,     0.78078,     0.78178,     0.78278,     0.78378,     0.78478,     0.78579,     0.78679,     0.78779,     0.78879,     0.78979,     0.79079,     0.79179,\n",
       "           0.79279,     0.79379,     0.79479,      0.7958,      0.7968,      0.7978,      0.7988,      0.7998,      0.8008,      0.8018,      0.8028,      0.8038,      0.8048,     0.80581,     0.80681,     0.80781,     0.80881,     0.80981,     0.81081,     0.81181,     0.81281,     0.81381,     0.81481,     0.81582,\n",
       "           0.81682,     0.81782,     0.81882,     0.81982,     0.82082,     0.82182,     0.82282,     0.82382,     0.82482,     0.82583,     0.82683,     0.82783,     0.82883,     0.82983,     0.83083,     0.83183,     0.83283,     0.83383,     0.83483,     0.83584,     0.83684,     0.83784,     0.83884,     0.83984,\n",
       "           0.84084,     0.84184,     0.84284,     0.84384,     0.84484,     0.84585,     0.84685,     0.84785,     0.84885,     0.84985,     0.85085,     0.85185,     0.85285,     0.85385,     0.85485,     0.85586,     0.85686,     0.85786,     0.85886,     0.85986,     0.86086,     0.86186,     0.86286,     0.86386,\n",
       "           0.86486,     0.86587,     0.86687,     0.86787,     0.86887,     0.86987,     0.87087,     0.87187,     0.87287,     0.87387,     0.87487,     0.87588,     0.87688,     0.87788,     0.87888,     0.87988,     0.88088,     0.88188,     0.88288,     0.88388,     0.88488,     0.88589,     0.88689,     0.88789,\n",
       "           0.88889,     0.88989,     0.89089,     0.89189,     0.89289,     0.89389,     0.89489,      0.8959,      0.8969,      0.8979,      0.8989,      0.8999,      0.9009,      0.9019,      0.9029,      0.9039,      0.9049,     0.90591,     0.90691,     0.90791,     0.90891,     0.90991,     0.91091,     0.91191,\n",
       "           0.91291,     0.91391,     0.91491,     0.91592,     0.91692,     0.91792,     0.91892,     0.91992,     0.92092,     0.92192,     0.92292,     0.92392,     0.92492,     0.92593,     0.92693,     0.92793,     0.92893,     0.92993,     0.93093,     0.93193,     0.93293,     0.93393,     0.93493,     0.93594,\n",
       "           0.93694,     0.93794,     0.93894,     0.93994,     0.94094,     0.94194,     0.94294,     0.94394,     0.94494,     0.94595,     0.94695,     0.94795,     0.94895,     0.94995,     0.95095,     0.95195,     0.95295,     0.95395,     0.95495,     0.95596,     0.95696,     0.95796,     0.95896,     0.95996,\n",
       "           0.96096,     0.96196,     0.96296,     0.96396,     0.96496,     0.96597,     0.96697,     0.96797,     0.96897,     0.96997,     0.97097,     0.97197,     0.97297,     0.97397,     0.97497,     0.97598,     0.97698,     0.97798,     0.97898,     0.97998,     0.98098,     0.98198,     0.98298,     0.98398,\n",
       "           0.98498,     0.98599,     0.98699,     0.98799,     0.98899,     0.98999,     0.99099,     0.99199,     0.99299,     0.99399,     0.99499,       0.996,       0.997,       0.998,       0.999,           1]), array([[    0.31069,     0.31069,     0.42522,     0.49657,     0.54874,     0.58399,     0.61141,     0.63261,     0.65292,      0.6665,     0.68538,     0.69785,     0.70661,     0.71903,     0.72952,     0.73718,     0.74588,      0.7514,     0.75653,     0.76412,     0.77028,     0.77605,     0.78101,\n",
       "            0.78551,     0.78965,     0.79584,     0.79842,     0.80449,     0.80899,     0.81188,     0.81469,     0.81842,     0.82198,     0.82538,     0.83016,     0.83256,      0.8345,     0.83671,     0.83842,     0.84088,     0.84439,      0.8478,     0.85024,     0.85352,     0.85672,      0.8577,\n",
       "            0.85981,     0.86118,     0.86257,     0.86478,     0.86665,     0.86894,     0.87111,     0.87279,     0.87499,     0.87647,     0.87788,     0.87892,     0.88024,     0.88033,     0.88138,      0.8827,     0.88472,     0.88668,     0.88789,     0.88853,     0.88968,     0.89044,     0.89338,\n",
       "            0.89441,     0.89516,     0.89615,     0.89664,     0.89739,       0.899,     0.89991,     0.90054,     0.90136,     0.90225,     0.90221,     0.90276,     0.90475,     0.90534,     0.90622,     0.90706,     0.90815,     0.90831,     0.90847,     0.90922,     0.90957,     0.91035,     0.91181,\n",
       "            0.91249,     0.91297,     0.91391,     0.91437,     0.91477,     0.91547,     0.91609,     0.91667,     0.91768,     0.91812,     0.91841,     0.91869,     0.91906,     0.91925,     0.91962,     0.92045,       0.921,     0.92211,     0.92246,     0.92262,     0.92277,     0.92323,     0.92394,\n",
       "            0.92429,     0.92481,      0.9249,     0.92584,     0.92701,     0.92717,     0.92734,     0.92765,     0.92793,     0.92817,     0.92902,     0.92951,     0.93041,     0.93152,     0.93164,     0.93176,     0.93188,     0.93205,     0.93228,     0.93251,     0.93274,      0.9332,     0.93362,\n",
       "            0.93393,     0.93454,     0.93497,     0.93559,     0.93672,     0.93735,     0.93766,     0.93795,     0.93824,     0.93866,     0.93879,     0.93891,     0.93903,     0.93919,     0.93935,     0.93951,     0.93965,     0.93979,     0.93995,      0.9405,     0.94077,     0.94094,      0.9411,\n",
       "            0.94148,     0.94162,     0.94162,     0.94161,     0.94161,      0.9416,      0.9416,     0.94159,     0.94158,     0.94158,     0.94182,     0.94209,     0.94224,     0.94239,      0.9438,     0.94415,     0.94454,     0.94467,     0.94478,     0.94488,     0.94499,     0.94523,     0.94542,\n",
       "            0.94555,     0.94581,     0.94658,     0.94677,     0.94687,     0.94697,     0.94708,     0.94719,     0.94731,     0.94743,     0.94754,     0.94817,     0.94841,      0.9487,      0.9493,     0.94965,     0.95001,     0.95057,     0.95057,     0.95056,     0.95056,     0.95055,     0.95055,\n",
       "            0.95144,     0.95152,     0.95159,     0.95167,     0.95174,     0.95182,     0.95193,      0.9521,     0.95227,     0.95235,     0.95241,     0.95247,     0.95253,     0.95259,     0.95264,      0.9527,     0.95271,      0.9527,     0.95269,     0.95401,     0.95405,      0.9541,     0.95414,\n",
       "            0.95419,     0.95423,     0.95428,     0.95432,     0.95437,     0.95441,     0.95496,     0.95518,     0.95576,     0.95575,     0.95583,     0.95667,     0.95675,     0.95684,     0.95693,     0.95701,      0.9573,     0.95756,     0.95765,     0.95774,     0.95782,     0.95791,     0.95795,\n",
       "            0.95794,     0.95793,     0.95793,     0.95837,     0.95837,     0.95837,     0.95836,     0.95836,     0.95836,     0.95837,     0.95867,     0.95879,     0.95879,     0.95879,     0.95879,     0.95878,     0.95878,     0.95878,     0.95878,     0.95877,     0.95877,     0.95877,     0.95877,\n",
       "            0.95877,     0.95877,     0.95876,     0.95876,     0.95876,     0.95876,       0.959,     0.95929,     0.95955,     0.96002,     0.96022,     0.96036,      0.9605,     0.96058,     0.96063,     0.96069,     0.96074,      0.9608,     0.96086,     0.96091,     0.96097,     0.96098,     0.96098,\n",
       "            0.96097,     0.96097,     0.96097,     0.96101,     0.96107,     0.96113,     0.96119,     0.96125,     0.96131,     0.96137,     0.96141,      0.9614,     0.96147,     0.96161,     0.96175,     0.96187,     0.96196,     0.96205,     0.96214,     0.96222,     0.96232,     0.96245,     0.96258,\n",
       "            0.96271,     0.96311,     0.96334,     0.96353,     0.96427,     0.96453,     0.96453,     0.96453,     0.96453,     0.96453,     0.96452,     0.96452,     0.96452,     0.96472,     0.96495,     0.96554,     0.96567,     0.96581,       0.966,     0.96627,     0.96636,      0.9664,     0.96644,\n",
       "            0.96648,     0.96653,     0.96657,     0.96661,     0.96665,     0.96669,     0.96674,     0.96678,     0.96677,     0.96677,     0.96677,     0.96677,     0.96677,     0.96677,     0.96676,     0.96676,     0.96676,     0.96676,     0.96676,     0.96676,     0.96675,     0.96675,     0.96675,\n",
       "            0.96675,     0.96675,     0.96675,     0.96675,     0.96678,     0.96691,     0.96703,     0.96715,     0.96737,     0.96763,     0.96765,     0.96765,     0.96764,     0.96764,     0.96764,     0.96766,     0.96774,     0.96782,     0.96791,     0.96799,     0.96807,     0.96808,     0.96853,\n",
       "            0.96869,     0.96884,       0.969,     0.96912,     0.96924,     0.96937,     0.96946,     0.96954,     0.96962,      0.9697,     0.96979,     0.96987,     0.97001,     0.97017,     0.97032,     0.97043,     0.97053,     0.97062,     0.97072,     0.97082,     0.97092,     0.97102,     0.97112,\n",
       "            0.97122,     0.97154,     0.97171,      0.9717,      0.9717,     0.97187,      0.9721,     0.97234,     0.97257,     0.97307,     0.97307,     0.97307,     0.97306,     0.97306,     0.97306,     0.97306,     0.97305,     0.97305,     0.97305,     0.97304,     0.97303,     0.97303,     0.97302,\n",
       "            0.97301,     0.97304,     0.97309,     0.97314,     0.97319,     0.97323,     0.97328,     0.97333,     0.97337,     0.97342,     0.97347,     0.97347,     0.97347,     0.97346,     0.97346,     0.97359,     0.97372,     0.97384,     0.97392,     0.97392,     0.97391,     0.97391,     0.97391,\n",
       "             0.9739,      0.9739,      0.9739,     0.97392,     0.97398,     0.97404,      0.9741,     0.97416,     0.97421,     0.97427,     0.97433,     0.97435,     0.97435,     0.97434,     0.97434,     0.97434,     0.97434,     0.97434,     0.97434,     0.97434,     0.97434,     0.97434,     0.97434,\n",
       "            0.97434,     0.97434,     0.97434,     0.97434,     0.97434,     0.97434,     0.97433,     0.97433,     0.97433,     0.97433,     0.97432,     0.97441,     0.97464,     0.97487,     0.97511,     0.97526,      0.9753,     0.97534,     0.97539,     0.97543,     0.97547,     0.97552,     0.97556,\n",
       "             0.9756,     0.97565,     0.97569,      0.9757,      0.9757,      0.9757,      0.9757,      0.9757,      0.9757,     0.97569,     0.97569,     0.97569,     0.97575,     0.97581,     0.97587,     0.97593,     0.97599,     0.97605,      0.9761,     0.97662,     0.97662,     0.97662,     0.97662,\n",
       "            0.97661,     0.97661,     0.97661,     0.97661,     0.97661,      0.9766,      0.9766,      0.9766,     0.97664,     0.97676,     0.97688,       0.977,     0.97705,     0.97705,     0.97718,     0.97742,     0.97751,     0.97751,      0.9775,     0.97761,     0.97777,     0.97793,     0.97815,\n",
       "            0.97839,     0.97843,     0.97843,     0.97842,     0.97859,     0.97878,      0.9791,     0.97959,     0.97989,     0.98001,     0.98013,     0.98025,     0.98037,     0.98049,     0.98061,     0.98073,     0.98077,     0.98077,     0.98077,     0.98076,     0.98076,     0.98076,     0.98076,\n",
       "            0.98076,     0.98075,     0.98074,     0.98097,     0.98121,     0.98145,     0.98169,     0.98168,     0.98168,     0.98168,     0.98175,     0.98187,       0.982,     0.98212,     0.98215,     0.98226,     0.98243,     0.98259,     0.98261,     0.98261,     0.98261,      0.9826,      0.9826,\n",
       "             0.9826,      0.9826,     0.98271,     0.98296,     0.98354,     0.98354,     0.98354,     0.98354,     0.98354,     0.98354,     0.98354,     0.98354,     0.98354,     0.98353,     0.98353,     0.98353,     0.98353,     0.98353,     0.98353,     0.98352,     0.98352,     0.98399,     0.98398,\n",
       "            0.98398,     0.98398,     0.98397,     0.98398,     0.98412,     0.98426,      0.9844,     0.98443,     0.98443,     0.98443,     0.98443,     0.98443,     0.98495,     0.98507,     0.98519,     0.98532,     0.98539,     0.98538,     0.98538,     0.98585,     0.98585,     0.98585,     0.98585,\n",
       "            0.98585,     0.98585,     0.98584,     0.98584,     0.98584,     0.98586,     0.98599,     0.98611,     0.98623,     0.98664,     0.98694,      0.9871,     0.98727,     0.98727,     0.98738,     0.98763,     0.98775,     0.98775,     0.98775,     0.98775,     0.98775,     0.98775,     0.98775,\n",
       "            0.98791,     0.98816,     0.98822,     0.98819,     0.98819,     0.98819,     0.98819,     0.98819,     0.98819,     0.98818,     0.98818,     0.98818,     0.98817,     0.98865,     0.98865,     0.98865,     0.98873,     0.98912,     0.98912,     0.98912,     0.98911,     0.98911,     0.98911,\n",
       "            0.98911,     0.98911,     0.98911,     0.98911,      0.9891,     0.98909,     0.98909,     0.98909,     0.98967,     0.98987,     0.99006,     0.99006,     0.99055,     0.99054,     0.99084,     0.99101,     0.99101,      0.9915,     0.99149,     0.99148,     0.99146,     0.99145,     0.99144,\n",
       "            0.99144,     0.99143,     0.99141,      0.9914,      0.9914,     0.99139,     0.99139,     0.99137,     0.99134,     0.99134,     0.99184,     0.99183,     0.99181,      0.9918,     0.99179,     0.99188,     0.99225,     0.99224,     0.99222,     0.99219,     0.99219,     0.99216,     0.99216,\n",
       "            0.99213,      0.9921,      0.9921,     0.99208,     0.99205,     0.99204,     0.99204,     0.99202,     0.99198,     0.99198,     0.99194,     0.99191,     0.99191,     0.99242,     0.99238,     0.99238,     0.99234,     0.99231,      0.9923,     0.99228,     0.99223,     0.99223,     0.99221,\n",
       "             0.9922,     0.99214,     0.99214,      0.9921,     0.99207,     0.99204,     0.99203,     0.99199,     0.99197,     0.99196,     0.99208,     0.99248,     0.99247,     0.99246,     0.99245,     0.99243,     0.99243,     0.99239,     0.99236,     0.99236,     0.99233,     0.99272,      0.9929,\n",
       "            0.99289,     0.99289,     0.99288,     0.99287,     0.99344,     0.99344,     0.99343,     0.99343,     0.99342,     0.99342,      0.9934,     0.99398,     0.99396,     0.99396,     0.99393,     0.99392,     0.99451,      0.9945,     0.99446,     0.99506,     0.99506,     0.99504,     0.99527,\n",
       "            0.99561,     0.99557,     0.99557,     0.99617,     0.99615,     0.99612,     0.99608,     0.99607,      0.9967,     0.99666,     0.99661,     0.99659,     0.99722,     0.99722,     0.99717,     0.99704,     0.99704,     0.99696,     0.99767,     0.99841,     0.99836,     0.99831,           1,\n",
       "                  1,           1,           1,           1,           1,           1,           1,           1,           1,           1,           1,           1,           1,           1,           1,           1,           1,           1,           1,           1,           1,           1,           1,\n",
       "                  1,           1,           1,           1,           1,           1,           1,           1,           1,           1,           1,           1,           1,           1,           1,           1,           1,           1,           1,           1,           1,           1,           1,\n",
       "                  1,           1,           1,           1,           1,           1,           1,           1,           1,           1,           1,           1,           1,           1,           1,           1,           1,           1,           1,           1,           1,           1,           1,\n",
       "                  1,           1,           1,           1,           1,           1,           1,           1,           1,           1,           1,           1,           1,           1,           1,           1,           1,           1,           1,           1,           1,           1,           1,\n",
       "                  1,           1,           1,           1,           1,           1,           1,           1,           1,           1,           1,           1,           1,           1,           1,           1,           1,           1,           1,           1,           1,           1,           1,\n",
       "                  1,           1,           1,           1,           1,           1,           1,           1,           1,           1,           1,           1,           1,           1,           1,           1,           1,           1,           1,           1,           1,           1,           1,\n",
       "                  1,           1,           1,           1,           1,           1,           1,           1,           1,           1,           1,           1,           1,           1,           1,           1,           1,           1,           1,           1,           1,           1,           1,\n",
       "                  1,           1,           1,           1,           1,           1,           1,           1,           1,           1,           1]]), 'Confidence', 'Precision'], [array([          0,    0.001001,    0.002002,    0.003003,    0.004004,    0.005005,    0.006006,    0.007007,    0.008008,    0.009009,     0.01001,    0.011011,    0.012012,    0.013013,    0.014014,    0.015015,    0.016016,    0.017017,    0.018018,    0.019019,     0.02002,    0.021021,    0.022022,    0.023023,\n",
       "          0.024024,    0.025025,    0.026026,    0.027027,    0.028028,    0.029029,     0.03003,    0.031031,    0.032032,    0.033033,    0.034034,    0.035035,    0.036036,    0.037037,    0.038038,    0.039039,     0.04004,    0.041041,    0.042042,    0.043043,    0.044044,    0.045045,    0.046046,    0.047047,\n",
       "          0.048048,    0.049049,     0.05005,    0.051051,    0.052052,    0.053053,    0.054054,    0.055055,    0.056056,    0.057057,    0.058058,    0.059059,     0.06006,    0.061061,    0.062062,    0.063063,    0.064064,    0.065065,    0.066066,    0.067067,    0.068068,    0.069069,     0.07007,    0.071071,\n",
       "          0.072072,    0.073073,    0.074074,    0.075075,    0.076076,    0.077077,    0.078078,    0.079079,     0.08008,    0.081081,    0.082082,    0.083083,    0.084084,    0.085085,    0.086086,    0.087087,    0.088088,    0.089089,     0.09009,    0.091091,    0.092092,    0.093093,    0.094094,    0.095095,\n",
       "          0.096096,    0.097097,    0.098098,    0.099099,      0.1001,      0.1011,      0.1021,      0.1031,      0.1041,     0.10511,     0.10611,     0.10711,     0.10811,     0.10911,     0.11011,     0.11111,     0.11211,     0.11311,     0.11411,     0.11512,     0.11612,     0.11712,     0.11812,     0.11912,\n",
       "           0.12012,     0.12112,     0.12212,     0.12312,     0.12412,     0.12513,     0.12613,     0.12713,     0.12813,     0.12913,     0.13013,     0.13113,     0.13213,     0.13313,     0.13413,     0.13514,     0.13614,     0.13714,     0.13814,     0.13914,     0.14014,     0.14114,     0.14214,     0.14314,\n",
       "           0.14414,     0.14515,     0.14615,     0.14715,     0.14815,     0.14915,     0.15015,     0.15115,     0.15215,     0.15315,     0.15415,     0.15516,     0.15616,     0.15716,     0.15816,     0.15916,     0.16016,     0.16116,     0.16216,     0.16316,     0.16416,     0.16517,     0.16617,     0.16717,\n",
       "           0.16817,     0.16917,     0.17017,     0.17117,     0.17217,     0.17317,     0.17417,     0.17518,     0.17618,     0.17718,     0.17818,     0.17918,     0.18018,     0.18118,     0.18218,     0.18318,     0.18418,     0.18519,     0.18619,     0.18719,     0.18819,     0.18919,     0.19019,     0.19119,\n",
       "           0.19219,     0.19319,     0.19419,      0.1952,      0.1962,      0.1972,      0.1982,      0.1992,      0.2002,      0.2012,      0.2022,      0.2032,      0.2042,     0.20521,     0.20621,     0.20721,     0.20821,     0.20921,     0.21021,     0.21121,     0.21221,     0.21321,     0.21421,     0.21522,\n",
       "           0.21622,     0.21722,     0.21822,     0.21922,     0.22022,     0.22122,     0.22222,     0.22322,     0.22422,     0.22523,     0.22623,     0.22723,     0.22823,     0.22923,     0.23023,     0.23123,     0.23223,     0.23323,     0.23423,     0.23524,     0.23624,     0.23724,     0.23824,     0.23924,\n",
       "           0.24024,     0.24124,     0.24224,     0.24324,     0.24424,     0.24525,     0.24625,     0.24725,     0.24825,     0.24925,     0.25025,     0.25125,     0.25225,     0.25325,     0.25425,     0.25526,     0.25626,     0.25726,     0.25826,     0.25926,     0.26026,     0.26126,     0.26226,     0.26326,\n",
       "           0.26426,     0.26527,     0.26627,     0.26727,     0.26827,     0.26927,     0.27027,     0.27127,     0.27227,     0.27327,     0.27427,     0.27528,     0.27628,     0.27728,     0.27828,     0.27928,     0.28028,     0.28128,     0.28228,     0.28328,     0.28428,     0.28529,     0.28629,     0.28729,\n",
       "           0.28829,     0.28929,     0.29029,     0.29129,     0.29229,     0.29329,     0.29429,      0.2953,      0.2963,      0.2973,      0.2983,      0.2993,      0.3003,      0.3013,      0.3023,      0.3033,      0.3043,     0.30531,     0.30631,     0.30731,     0.30831,     0.30931,     0.31031,     0.31131,\n",
       "           0.31231,     0.31331,     0.31431,     0.31532,     0.31632,     0.31732,     0.31832,     0.31932,     0.32032,     0.32132,     0.32232,     0.32332,     0.32432,     0.32533,     0.32633,     0.32733,     0.32833,     0.32933,     0.33033,     0.33133,     0.33233,     0.33333,     0.33433,     0.33534,\n",
       "           0.33634,     0.33734,     0.33834,     0.33934,     0.34034,     0.34134,     0.34234,     0.34334,     0.34434,     0.34535,     0.34635,     0.34735,     0.34835,     0.34935,     0.35035,     0.35135,     0.35235,     0.35335,     0.35435,     0.35536,     0.35636,     0.35736,     0.35836,     0.35936,\n",
       "           0.36036,     0.36136,     0.36236,     0.36336,     0.36436,     0.36537,     0.36637,     0.36737,     0.36837,     0.36937,     0.37037,     0.37137,     0.37237,     0.37337,     0.37437,     0.37538,     0.37638,     0.37738,     0.37838,     0.37938,     0.38038,     0.38138,     0.38238,     0.38338,\n",
       "           0.38438,     0.38539,     0.38639,     0.38739,     0.38839,     0.38939,     0.39039,     0.39139,     0.39239,     0.39339,     0.39439,      0.3954,      0.3964,      0.3974,      0.3984,      0.3994,      0.4004,      0.4014,      0.4024,      0.4034,      0.4044,     0.40541,     0.40641,     0.40741,\n",
       "           0.40841,     0.40941,     0.41041,     0.41141,     0.41241,     0.41341,     0.41441,     0.41542,     0.41642,     0.41742,     0.41842,     0.41942,     0.42042,     0.42142,     0.42242,     0.42342,     0.42442,     0.42543,     0.42643,     0.42743,     0.42843,     0.42943,     0.43043,     0.43143,\n",
       "           0.43243,     0.43343,     0.43443,     0.43544,     0.43644,     0.43744,     0.43844,     0.43944,     0.44044,     0.44144,     0.44244,     0.44344,     0.44444,     0.44545,     0.44645,     0.44745,     0.44845,     0.44945,     0.45045,     0.45145,     0.45245,     0.45345,     0.45445,     0.45546,\n",
       "           0.45646,     0.45746,     0.45846,     0.45946,     0.46046,     0.46146,     0.46246,     0.46346,     0.46446,     0.46547,     0.46647,     0.46747,     0.46847,     0.46947,     0.47047,     0.47147,     0.47247,     0.47347,     0.47447,     0.47548,     0.47648,     0.47748,     0.47848,     0.47948,\n",
       "           0.48048,     0.48148,     0.48248,     0.48348,     0.48448,     0.48549,     0.48649,     0.48749,     0.48849,     0.48949,     0.49049,     0.49149,     0.49249,     0.49349,     0.49449,      0.4955,      0.4965,      0.4975,      0.4985,      0.4995,      0.5005,      0.5015,      0.5025,      0.5035,\n",
       "            0.5045,     0.50551,     0.50651,     0.50751,     0.50851,     0.50951,     0.51051,     0.51151,     0.51251,     0.51351,     0.51451,     0.51552,     0.51652,     0.51752,     0.51852,     0.51952,     0.52052,     0.52152,     0.52252,     0.52352,     0.52452,     0.52553,     0.52653,     0.52753,\n",
       "           0.52853,     0.52953,     0.53053,     0.53153,     0.53253,     0.53353,     0.53453,     0.53554,     0.53654,     0.53754,     0.53854,     0.53954,     0.54054,     0.54154,     0.54254,     0.54354,     0.54454,     0.54555,     0.54655,     0.54755,     0.54855,     0.54955,     0.55055,     0.55155,\n",
       "           0.55255,     0.55355,     0.55455,     0.55556,     0.55656,     0.55756,     0.55856,     0.55956,     0.56056,     0.56156,     0.56256,     0.56356,     0.56456,     0.56557,     0.56657,     0.56757,     0.56857,     0.56957,     0.57057,     0.57157,     0.57257,     0.57357,     0.57457,     0.57558,\n",
       "           0.57658,     0.57758,     0.57858,     0.57958,     0.58058,     0.58158,     0.58258,     0.58358,     0.58458,     0.58559,     0.58659,     0.58759,     0.58859,     0.58959,     0.59059,     0.59159,     0.59259,     0.59359,     0.59459,      0.5956,      0.5966,      0.5976,      0.5986,      0.5996,\n",
       "            0.6006,      0.6016,      0.6026,      0.6036,      0.6046,     0.60561,     0.60661,     0.60761,     0.60861,     0.60961,     0.61061,     0.61161,     0.61261,     0.61361,     0.61461,     0.61562,     0.61662,     0.61762,     0.61862,     0.61962,     0.62062,     0.62162,     0.62262,     0.62362,\n",
       "           0.62462,     0.62563,     0.62663,     0.62763,     0.62863,     0.62963,     0.63063,     0.63163,     0.63263,     0.63363,     0.63463,     0.63564,     0.63664,     0.63764,     0.63864,     0.63964,     0.64064,     0.64164,     0.64264,     0.64364,     0.64464,     0.64565,     0.64665,     0.64765,\n",
       "           0.64865,     0.64965,     0.65065,     0.65165,     0.65265,     0.65365,     0.65465,     0.65566,     0.65666,     0.65766,     0.65866,     0.65966,     0.66066,     0.66166,     0.66266,     0.66366,     0.66466,     0.66567,     0.66667,     0.66767,     0.66867,     0.66967,     0.67067,     0.67167,\n",
       "           0.67267,     0.67367,     0.67467,     0.67568,     0.67668,     0.67768,     0.67868,     0.67968,     0.68068,     0.68168,     0.68268,     0.68368,     0.68468,     0.68569,     0.68669,     0.68769,     0.68869,     0.68969,     0.69069,     0.69169,     0.69269,     0.69369,     0.69469,      0.6957,\n",
       "            0.6967,      0.6977,      0.6987,      0.6997,      0.7007,      0.7017,      0.7027,      0.7037,      0.7047,     0.70571,     0.70671,     0.70771,     0.70871,     0.70971,     0.71071,     0.71171,     0.71271,     0.71371,     0.71471,     0.71572,     0.71672,     0.71772,     0.71872,     0.71972,\n",
       "           0.72072,     0.72172,     0.72272,     0.72372,     0.72472,     0.72573,     0.72673,     0.72773,     0.72873,     0.72973,     0.73073,     0.73173,     0.73273,     0.73373,     0.73473,     0.73574,     0.73674,     0.73774,     0.73874,     0.73974,     0.74074,     0.74174,     0.74274,     0.74374,\n",
       "           0.74474,     0.74575,     0.74675,     0.74775,     0.74875,     0.74975,     0.75075,     0.75175,     0.75275,     0.75375,     0.75475,     0.75576,     0.75676,     0.75776,     0.75876,     0.75976,     0.76076,     0.76176,     0.76276,     0.76376,     0.76476,     0.76577,     0.76677,     0.76777,\n",
       "           0.76877,     0.76977,     0.77077,     0.77177,     0.77277,     0.77377,     0.77477,     0.77578,     0.77678,     0.77778,     0.77878,     0.77978,     0.78078,     0.78178,     0.78278,     0.78378,     0.78478,     0.78579,     0.78679,     0.78779,     0.78879,     0.78979,     0.79079,     0.79179,\n",
       "           0.79279,     0.79379,     0.79479,      0.7958,      0.7968,      0.7978,      0.7988,      0.7998,      0.8008,      0.8018,      0.8028,      0.8038,      0.8048,     0.80581,     0.80681,     0.80781,     0.80881,     0.80981,     0.81081,     0.81181,     0.81281,     0.81381,     0.81481,     0.81582,\n",
       "           0.81682,     0.81782,     0.81882,     0.81982,     0.82082,     0.82182,     0.82282,     0.82382,     0.82482,     0.82583,     0.82683,     0.82783,     0.82883,     0.82983,     0.83083,     0.83183,     0.83283,     0.83383,     0.83483,     0.83584,     0.83684,     0.83784,     0.83884,     0.83984,\n",
       "           0.84084,     0.84184,     0.84284,     0.84384,     0.84484,     0.84585,     0.84685,     0.84785,     0.84885,     0.84985,     0.85085,     0.85185,     0.85285,     0.85385,     0.85485,     0.85586,     0.85686,     0.85786,     0.85886,     0.85986,     0.86086,     0.86186,     0.86286,     0.86386,\n",
       "           0.86486,     0.86587,     0.86687,     0.86787,     0.86887,     0.86987,     0.87087,     0.87187,     0.87287,     0.87387,     0.87487,     0.87588,     0.87688,     0.87788,     0.87888,     0.87988,     0.88088,     0.88188,     0.88288,     0.88388,     0.88488,     0.88589,     0.88689,     0.88789,\n",
       "           0.88889,     0.88989,     0.89089,     0.89189,     0.89289,     0.89389,     0.89489,      0.8959,      0.8969,      0.8979,      0.8989,      0.8999,      0.9009,      0.9019,      0.9029,      0.9039,      0.9049,     0.90591,     0.90691,     0.90791,     0.90891,     0.90991,     0.91091,     0.91191,\n",
       "           0.91291,     0.91391,     0.91491,     0.91592,     0.91692,     0.91792,     0.91892,     0.91992,     0.92092,     0.92192,     0.92292,     0.92392,     0.92492,     0.92593,     0.92693,     0.92793,     0.92893,     0.92993,     0.93093,     0.93193,     0.93293,     0.93393,     0.93493,     0.93594,\n",
       "           0.93694,     0.93794,     0.93894,     0.93994,     0.94094,     0.94194,     0.94294,     0.94394,     0.94494,     0.94595,     0.94695,     0.94795,     0.94895,     0.94995,     0.95095,     0.95195,     0.95295,     0.95395,     0.95495,     0.95596,     0.95696,     0.95796,     0.95896,     0.95996,\n",
       "           0.96096,     0.96196,     0.96296,     0.96396,     0.96496,     0.96597,     0.96697,     0.96797,     0.96897,     0.96997,     0.97097,     0.97197,     0.97297,     0.97397,     0.97497,     0.97598,     0.97698,     0.97798,     0.97898,     0.97998,     0.98098,     0.98198,     0.98298,     0.98398,\n",
       "           0.98498,     0.98599,     0.98699,     0.98799,     0.98899,     0.98999,     0.99099,     0.99199,     0.99299,     0.99399,     0.99499,       0.996,       0.997,       0.998,       0.999,           1]), array([[    0.98874,     0.98874,     0.98827,      0.9878,     0.98734,     0.98687,     0.98593,     0.98546,     0.98546,     0.98546,     0.98499,     0.98499,     0.98499,     0.98452,     0.98405,     0.98405,     0.98311,     0.98311,     0.98311,     0.98265,     0.98218,     0.98218,     0.98218,\n",
       "            0.98171,     0.98124,     0.98124,     0.98124,     0.98124,     0.98077,     0.98077,     0.98077,     0.98077,     0.98077,     0.98077,     0.98077,     0.98077,     0.98077,     0.98077,     0.98077,     0.98077,     0.98077,     0.98077,     0.98077,     0.98077,     0.98077,     0.98077,\n",
       "            0.98077,     0.98077,     0.98077,     0.98077,     0.98077,     0.98077,     0.98077,     0.98077,     0.98077,     0.98077,     0.98077,     0.98077,      0.9803,     0.97996,     0.97983,     0.97983,     0.97983,     0.97983,     0.97983,     0.97983,     0.97983,     0.97983,     0.97983,\n",
       "            0.97983,     0.97983,     0.97953,     0.97936,     0.97936,     0.97936,     0.97936,     0.97936,     0.97936,     0.97842,     0.97801,     0.97795,     0.97795,     0.97795,     0.97795,     0.97795,     0.97795,     0.97795,     0.97795,     0.97795,     0.97795,     0.97795,     0.97795,\n",
       "            0.97795,     0.97795,     0.97795,     0.97795,     0.97795,     0.97795,     0.97795,     0.97795,     0.97776,     0.97749,     0.97749,     0.97749,     0.97749,     0.97709,     0.97669,     0.97655,     0.97655,     0.97655,     0.97655,     0.97655,     0.97655,     0.97655,     0.97655,\n",
       "            0.97655,     0.97655,     0.97625,     0.97608,     0.97608,     0.97608,     0.97608,     0.97608,     0.97608,     0.97608,     0.97608,     0.97608,     0.97608,     0.97608,     0.97608,     0.97608,     0.97608,     0.97608,     0.97608,     0.97608,     0.97608,     0.97608,     0.97608,\n",
       "            0.97608,     0.97608,     0.97608,     0.97608,     0.97608,     0.97608,     0.97608,     0.97608,     0.97608,     0.97608,     0.97608,     0.97608,     0.97608,     0.97608,     0.97608,     0.97608,     0.97608,     0.97608,     0.97608,     0.97608,     0.97608,     0.97608,     0.97608,\n",
       "            0.97608,       0.976,      0.9759,      0.9758,     0.97571,     0.97561,      0.9755,     0.97539,     0.97529,     0.97518,     0.97514,     0.97514,     0.97514,     0.97514,     0.97514,     0.97514,     0.97514,     0.97514,     0.97514,     0.97514,     0.97514,     0.97514,     0.97499,\n",
       "            0.97467,     0.97467,     0.97467,     0.97467,     0.97467,     0.97467,     0.97467,     0.97467,     0.97467,     0.97467,     0.97467,     0.97467,     0.97443,      0.9742,      0.9742,      0.9742,      0.9742,     0.97415,     0.97407,     0.97399,      0.9739,     0.97382,     0.97374,\n",
       "            0.97373,     0.97373,     0.97373,     0.97373,     0.97373,     0.97373,     0.97373,     0.97373,     0.97373,     0.97373,     0.97373,     0.97373,     0.97373,     0.97373,     0.97373,     0.97373,     0.97337,     0.97308,     0.97285,      0.9728,      0.9728,      0.9728,      0.9728,\n",
       "             0.9728,      0.9728,      0.9728,      0.9728,      0.9728,      0.9728,      0.9728,      0.9728,     0.97273,     0.97251,     0.97233,     0.97233,     0.97233,     0.97233,     0.97233,     0.97233,     0.97233,     0.97233,     0.97233,     0.97233,     0.97233,     0.97233,     0.97226,\n",
       "            0.97213,       0.972,     0.97187,     0.97185,     0.97177,     0.97169,     0.97161,     0.97154,     0.97146,     0.97139,     0.97139,     0.97135,     0.97128,     0.97121,     0.97114,     0.97107,       0.971,     0.97094,     0.97089,     0.97084,      0.9708,     0.97076,     0.97072,\n",
       "            0.97067,     0.97063,     0.97059,     0.97054,      0.9705,     0.97046,     0.97045,     0.97045,     0.97045,     0.97045,     0.97045,     0.97045,     0.97045,     0.97045,     0.97045,     0.97045,     0.97045,     0.97045,     0.97045,     0.97045,     0.97045,     0.97039,     0.97029,\n",
       "            0.97019,      0.9701,        0.97,     0.96998,     0.96998,     0.96998,     0.96998,     0.96998,     0.96998,     0.96998,     0.96992,     0.96964,     0.96951,     0.96951,     0.96951,     0.96951,     0.96951,     0.96951,     0.96951,     0.96951,     0.96951,     0.96951,     0.96951,\n",
       "            0.96951,     0.96951,     0.96951,     0.96951,     0.96951,     0.96949,     0.96942,     0.96936,      0.9693,     0.96924,     0.96918,     0.96911,     0.96905,     0.96904,     0.96904,     0.96904,     0.96904,     0.96904,     0.96904,     0.96904,     0.96904,     0.96904,     0.96904,\n",
       "            0.96904,     0.96904,     0.96904,     0.96904,     0.96904,     0.96904,     0.96904,     0.96904,     0.96899,     0.96893,     0.96888,     0.96883,     0.96877,     0.96872,     0.96867,     0.96861,     0.96856,     0.96852,     0.96848,     0.96843,     0.96839,     0.96835,     0.96831,\n",
       "            0.96826,     0.96822,     0.96818,     0.96813,     0.96811,     0.96811,     0.96811,     0.96811,     0.96811,     0.96811,     0.96803,     0.96794,     0.96786,     0.96778,     0.96769,     0.96764,     0.96764,     0.96764,     0.96764,     0.96764,     0.96764,     0.96744,     0.96717,\n",
       "            0.96717,     0.96717,     0.96717,     0.96717,     0.96717,     0.96717,      0.9667,      0.9667,      0.9667,      0.9667,      0.9667,      0.9667,      0.9667,      0.9667,      0.9667,      0.9667,      0.9667,      0.9667,      0.9667,      0.9667,      0.9667,      0.9667,      0.9667,\n",
       "             0.9667,      0.9667,     0.96659,     0.96643,     0.96627,     0.96623,     0.96623,     0.96623,     0.96623,     0.96612,       0.966,     0.96587,     0.96575,     0.96567,     0.96559,     0.96551,     0.96543,     0.96535,     0.96522,     0.96498,     0.96473,     0.96445,      0.9642,\n",
       "            0.96396,     0.96388,     0.96388,     0.96388,     0.96388,     0.96388,     0.96388,     0.96388,     0.96388,     0.96388,     0.96388,     0.96377,     0.96365,     0.96353,     0.96341,     0.96341,     0.96341,     0.96341,     0.96337,     0.96325,     0.96313,     0.96301,     0.96289,\n",
       "            0.96277,     0.96265,     0.96253,     0.96201,     0.96201,     0.96201,     0.96201,     0.96201,     0.96201,     0.96201,     0.96201,     0.96199,     0.96196,     0.96194,     0.96191,     0.96189,     0.96186,     0.96184,     0.96181,     0.96179,     0.96176,     0.96174,     0.96171,\n",
       "            0.96168,     0.96166,     0.96163,     0.96161,     0.96158,     0.96156,     0.96152,     0.96142,     0.96132,     0.96123,     0.96113,     0.96107,     0.96107,      0.9606,      0.9606,      0.9606,      0.9606,      0.9606,      0.9606,      0.9606,      0.9606,      0.9606,      0.9606,\n",
       "             0.9606,      0.9606,      0.9606,     0.96056,     0.96051,     0.96046,      0.9604,     0.96035,     0.96029,     0.96024,     0.96019,     0.96013,     0.96013,     0.96013,     0.96013,     0.96013,     0.96013,     0.96013,     0.96013,     0.96012,     0.96004,     0.95996,     0.95988,\n",
       "             0.9598,     0.95972,     0.95964,     0.95956,     0.95948,      0.9594,     0.95932,     0.95924,     0.95872,     0.95872,     0.95872,     0.95872,      0.9586,     0.95836,     0.95826,     0.95826,     0.95816,       0.958,     0.95783,     0.95779,     0.95779,     0.95779,     0.95779,\n",
       "            0.95779,     0.95759,     0.95735,      0.9569,     0.95685,     0.95685,     0.95685,     0.95685,     0.95685,     0.95685,     0.95685,     0.95685,     0.95685,     0.95685,     0.95685,     0.95685,     0.95681,     0.95675,     0.95669,     0.95663,     0.95657,     0.95651,     0.95645,\n",
       "            0.95639,      0.9557,     0.95546,     0.95544,     0.95544,     0.95544,     0.95544,      0.9553,     0.95516,     0.95502,     0.95497,     0.95497,     0.95497,     0.95497,     0.95462,      0.9545,      0.9545,      0.9545,     0.95398,     0.95392,     0.95385,     0.95379,     0.95372,\n",
       "            0.95366,      0.9536,      0.9531,      0.9531,     0.95307,     0.95302,     0.95297,     0.95292,     0.95287,     0.95281,     0.95276,     0.95271,     0.95266,      0.9526,     0.95251,     0.95243,     0.95234,     0.95225,     0.95216,     0.95194,      0.9517,     0.95146,     0.95075,\n",
       "            0.95063,     0.95051,     0.95039,     0.94981,     0.94981,     0.94981,     0.94981,     0.94928,     0.94919,     0.94911,     0.94902,     0.94893,     0.94887,     0.94887,     0.94887,     0.94887,     0.94874,     0.94842,     0.94817,     0.94793,     0.94783,     0.94772,     0.94761,\n",
       "            0.94751,     0.94737,     0.94721,     0.94705,     0.94677,     0.94653,     0.94653,     0.94653,     0.94653,     0.94653,     0.94653,     0.94653,     0.94653,     0.94577,     0.94559,     0.94559,     0.94556,     0.94549,     0.94542,     0.94535,     0.94528,     0.94521,     0.94514,\n",
       "            0.94512,     0.94512,     0.94395,     0.94225,       0.942,     0.94181,     0.94171,     0.94162,     0.94152,     0.94142,     0.94116,     0.94081,     0.94062,     0.93996,     0.93972,     0.93946,     0.93902,     0.93847,     0.93834,      0.9382,      0.9376,     0.93754,     0.93747,\n",
       "             0.9374,     0.93733,     0.93726,     0.93719,      0.9361,     0.93577,     0.93553,     0.93529,     0.93527,     0.93527,     0.93433,     0.93409,     0.93384,     0.93352,     0.93293,     0.93102,     0.93078,     0.92958,     0.92926,     0.92836,     0.92536,     0.92512,     0.92345,\n",
       "            0.92313,     0.92281,     0.92008,     0.91893,     0.91873,     0.91859,     0.91845,     0.91588,     0.91321,     0.91269,     0.91201,     0.91153,     0.90927,     0.90744,      0.9068,     0.90385,     0.90049,     0.90017,     0.89785,      0.8939,     0.89358,     0.89051,     0.89027,\n",
       "            0.88667,     0.88354,     0.88322,     0.88149,     0.87789,     0.87663,     0.87631,     0.87458,     0.87049,     0.86994,     0.86564,     0.86251,     0.86219,     0.85952,     0.85545,     0.85513,     0.85106,     0.84698,     0.84666,     0.84353,     0.83852,      0.8382,     0.83647,\n",
       "            0.83521,     0.82879,     0.82847,     0.82487,     0.82172,     0.81797,     0.81765,     0.81358,     0.81091,     0.81059,     0.80769,     0.80432,       0.804,     0.80228,     0.80143,      0.7996,     0.79928,     0.79521,     0.79207,     0.79175,      0.7894,     0.78846,     0.78688,\n",
       "            0.78609,     0.78577,     0.78489,     0.78357,     0.78137,     0.78105,     0.78062,     0.78025,       0.779,     0.77868,     0.77635,      0.7746,     0.77193,     0.77161,     0.76837,     0.76706,     0.76479,     0.76298,      0.7575,     0.75561,     0.75529,     0.75207,     0.74812,\n",
       "            0.74383,     0.73775,     0.73743,     0.73231,     0.72772,     0.72267,     0.71468,     0.71405,     0.70786,     0.69907,     0.69025,     0.68461,     0.67294,     0.67262,     0.66041,     0.63133,     0.63101,     0.61559,     0.60216,     0.58742,      0.5717,     0.55425,     0.54025,\n",
       "            0.53919,     0.52592,     0.50866,     0.48931,     0.47395,      0.4584,     0.43979,     0.42899,     0.41491,     0.40183,     0.40151,     0.39025,     0.37193,     0.36442,     0.35316,     0.34236,     0.33719,     0.32735,     0.32703,     0.31877,     0.31251,     0.30406,     0.29983,\n",
       "            0.29419,     0.29183,       0.289,     0.28383,     0.28012,     0.27771,     0.27676,     0.27393,     0.27017,     0.26452,     0.26074,     0.25817,     0.25413,     0.25176,     0.24782,     0.24453,     0.23762,     0.22446,     0.21471,     0.20531,     0.19545,     0.18638,      0.1769,\n",
       "            0.16335,     0.14878,       0.118,     0.10767,    0.095242,    0.086776,    0.068001,    0.062808,    0.058831,    0.055725,    0.051537,    0.049581,    0.047681,     0.04517,    0.043882,    0.042451,    0.040445,    0.040151,     0.03991,    0.038197,    0.037643,    0.035744,    0.034511,\n",
       "           0.032882,    0.032529,    0.031662,    0.031181,    0.030854,    0.030662,    0.030396,    0.029042,    0.028722,    0.028401,    0.027957,     0.02604,    0.025096,    0.024618,    0.024251,     0.02377,    0.023343,    0.023023,    0.022562,    0.022225,     0.02194,      0.0217,     0.02064,\n",
       "           0.018755,    0.018434,    0.017814,    0.017676,    0.017539,    0.017402,    0.015866,    0.015292,     0.01467,    0.013581,    0.013494,    0.013406,    0.013319,    0.013231,    0.013144,    0.012852,    0.012267,    0.012017,    0.011825,    0.011492,    0.011093,    0.010742,    0.009773,\n",
       "          0.0096357,   0.0094983,   0.0088421,   0.0082799,   0.0068493,   0.0057581,   0.0041825,   0.0040222,    0.003862,   0.0034486,    0.002018,   0.0013252,    0.001229,   0.0011328,   0.0010367,  0.00094053,           0,           0,           0,           0,           0,           0,           0,\n",
       "                  0,           0,           0,           0,           0,           0,           0,           0,           0,           0,           0,           0,           0,           0,           0,           0,           0,           0,           0,           0,           0,           0,           0,\n",
       "                  0,           0,           0,           0,           0,           0,           0,           0,           0,           0,           0]]), 'Confidence', 'Recall']]\n",
       "fitness: np.float64(0.7373977145454322)\n",
       "keys: ['metrics/precision(B)', 'metrics/recall(B)', 'metrics/mAP50(B)', 'metrics/mAP50-95(B)']\n",
       "maps: array([    0.71003])\n",
       "names: {0: 'License_Plate'}\n",
       "plot: True\n",
       "results_dict: {'metrics/precision(B)': np.float64(0.9731386253648733), 'metrics/recall(B)': np.float64(0.9638836772983115), 'metrics/mAP50(B)': np.float64(0.9837458583703923), 'metrics/mAP50-95(B)': np.float64(0.7100256985648812), 'fitness': np.float64(0.7373977145454322)}\n",
       "save_dir: WindowsPath('runs/detect/train')\n",
       "speed: {'preprocess': 0.22221800169287537, 'inference': 1.5459207495636256, 'loss': 0.0, 'postprocess': 0.5646673698462582}\n",
       "task: 'detect'"
      ]
     },
     "execution_count": 8,
     "metadata": {},
     "output_type": "execute_result"
    }
   ],
   "source": [
    "model.train(data=dataset,imgsz=640,device=\"cuda\",epochs=60)"
   ]
  },
  {
   "cell_type": "code",
   "execution_count": null,
   "metadata": {},
   "outputs": [],
   "source": []
  }
 ],
 "metadata": {
  "kernelspec": {
   "display_name": "Yolov8",
   "language": "python",
   "name": "python3"
  },
  "language_info": {
   "codemirror_mode": {
    "name": "ipython",
    "version": 3
   },
   "file_extension": ".py",
   "mimetype": "text/x-python",
   "name": "python",
   "nbconvert_exporter": "python",
   "pygments_lexer": "ipython3",
   "version": "3.9.20"
  }
 },
 "nbformat": 4,
 "nbformat_minor": 2
}
